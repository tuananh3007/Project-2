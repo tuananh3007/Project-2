{
 "cells": [
  {
   "cell_type": "code",
   "execution_count": 1,
   "id": "ee3581ce-a3e0-40c1-91fd-a989ff1ffa44",
   "metadata": {},
   "outputs": [],
   "source": [
    "import pandas as pd\n",
    "import numpy as np\n",
    "import re\n",
    "import matplotlib.pyplot as plt"
   ]
  },
  {
   "cell_type": "markdown",
   "id": "f3304909-7364-4f7e-80e2-b4e378964b76",
   "metadata": {},
   "source": [
    "# 1. Import the Data"
   ]
  },
  {
   "cell_type": "code",
   "execution_count": 2,
   "id": "73021731-754c-46ab-878f-0756d77da758",
   "metadata": {},
   "outputs": [],
   "source": [
    "trans = pd.read_csv(\"product_category_name_translation.csv\")\n",
    "oo = pd.read_csv(\"olist_orders_dataset.csv\")\n",
    "ooi = pd.read_csv(\"olist_order_items_dataset.csv\")\n",
    "oop = pd.read_csv(\"olist_order_payments_dataset.csv\")\n",
    "oor = pd.read_csv(\"olist_order_reviews_dataset.csv\")\n",
    "oc = pd.read_csv(\"olist_customers_dataset.csv\")\n",
    "og = pd.read_csv(\"olist_geolocation_dataset.csv\")\n",
    "op = pd.read_csv(\"olist_products_dataset.csv\")\n",
    "os = pd.read_csv(\"olist_sellers_dataset.csv\")"
   ]
  },
  {
   "cell_type": "markdown",
   "id": "a06fd118-c118-40b0-a123-0df329a56bb8",
   "metadata": {},
   "source": [
    "# 2. Clean the Data"
   ]
  },
  {
   "cell_type": "markdown",
   "id": "c00a9095-7458-4810-9097-0cc3beb67f63",
   "metadata": {},
   "source": [
    "## 2.1. Order Data"
   ]
  },
  {
   "cell_type": "code",
   "execution_count": 3,
   "id": "7613ee90-5f14-4381-8126-da46f498cf2c",
   "metadata": {},
   "outputs": [
    {
     "data": {
      "text/html": [
       "<div>\n",
       "<style scoped>\n",
       "    .dataframe tbody tr th:only-of-type {\n",
       "        vertical-align: middle;\n",
       "    }\n",
       "\n",
       "    .dataframe tbody tr th {\n",
       "        vertical-align: top;\n",
       "    }\n",
       "\n",
       "    .dataframe thead th {\n",
       "        text-align: right;\n",
       "    }\n",
       "</style>\n",
       "<table border=\"1\" class=\"dataframe\">\n",
       "  <thead>\n",
       "    <tr style=\"text-align: right;\">\n",
       "      <th></th>\n",
       "      <th>order_id</th>\n",
       "      <th>customer_id</th>\n",
       "      <th>order_status</th>\n",
       "      <th>order_purchase_timestamp</th>\n",
       "      <th>order_approved_at</th>\n",
       "      <th>order_delivered_carrier_date</th>\n",
       "      <th>order_delivered_customer_date</th>\n",
       "      <th>order_estimated_delivery_date</th>\n",
       "    </tr>\n",
       "  </thead>\n",
       "  <tbody>\n",
       "    <tr>\n",
       "      <th>0</th>\n",
       "      <td>e481f51cbdc54678b7cc49136f2d6af7</td>\n",
       "      <td>9ef432eb6251297304e76186b10a928d</td>\n",
       "      <td>delivered</td>\n",
       "      <td>2017-10-02 10:56:33</td>\n",
       "      <td>2017-10-02 11:07:15</td>\n",
       "      <td>2017-10-04 19:55:00</td>\n",
       "      <td>2017-10-10 21:25:13</td>\n",
       "      <td>2017-10-18 00:00:00</td>\n",
       "    </tr>\n",
       "    <tr>\n",
       "      <th>1</th>\n",
       "      <td>53cdb2fc8bc7dce0b6741e2150273451</td>\n",
       "      <td>b0830fb4747a6c6d20dea0b8c802d7ef</td>\n",
       "      <td>delivered</td>\n",
       "      <td>2018-07-24 20:41:37</td>\n",
       "      <td>2018-07-26 03:24:27</td>\n",
       "      <td>2018-07-26 14:31:00</td>\n",
       "      <td>2018-08-07 15:27:45</td>\n",
       "      <td>2018-08-13 00:00:00</td>\n",
       "    </tr>\n",
       "    <tr>\n",
       "      <th>2</th>\n",
       "      <td>47770eb9100c2d0c44946d9cf07ec65d</td>\n",
       "      <td>41ce2a54c0b03bf3443c3d931a367089</td>\n",
       "      <td>delivered</td>\n",
       "      <td>2018-08-08 08:38:49</td>\n",
       "      <td>2018-08-08 08:55:23</td>\n",
       "      <td>2018-08-08 13:50:00</td>\n",
       "      <td>2018-08-17 18:06:29</td>\n",
       "      <td>2018-09-04 00:00:00</td>\n",
       "    </tr>\n",
       "    <tr>\n",
       "      <th>3</th>\n",
       "      <td>949d5b44dbf5de918fe9c16f97b45f8a</td>\n",
       "      <td>f88197465ea7920adcdbec7375364d82</td>\n",
       "      <td>delivered</td>\n",
       "      <td>2017-11-18 19:28:06</td>\n",
       "      <td>2017-11-18 19:45:59</td>\n",
       "      <td>2017-11-22 13:39:59</td>\n",
       "      <td>2017-12-02 00:28:42</td>\n",
       "      <td>2017-12-15 00:00:00</td>\n",
       "    </tr>\n",
       "    <tr>\n",
       "      <th>4</th>\n",
       "      <td>ad21c59c0840e6cb83a9ceb5573f8159</td>\n",
       "      <td>8ab97904e6daea8866dbdbc4fb7aad2c</td>\n",
       "      <td>delivered</td>\n",
       "      <td>2018-02-13 21:18:39</td>\n",
       "      <td>2018-02-13 22:20:29</td>\n",
       "      <td>2018-02-14 19:46:34</td>\n",
       "      <td>2018-02-16 18:17:02</td>\n",
       "      <td>2018-02-26 00:00:00</td>\n",
       "    </tr>\n",
       "  </tbody>\n",
       "</table>\n",
       "</div>"
      ],
      "text/plain": [
       "                           order_id                       customer_id  \\\n",
       "0  e481f51cbdc54678b7cc49136f2d6af7  9ef432eb6251297304e76186b10a928d   \n",
       "1  53cdb2fc8bc7dce0b6741e2150273451  b0830fb4747a6c6d20dea0b8c802d7ef   \n",
       "2  47770eb9100c2d0c44946d9cf07ec65d  41ce2a54c0b03bf3443c3d931a367089   \n",
       "3  949d5b44dbf5de918fe9c16f97b45f8a  f88197465ea7920adcdbec7375364d82   \n",
       "4  ad21c59c0840e6cb83a9ceb5573f8159  8ab97904e6daea8866dbdbc4fb7aad2c   \n",
       "\n",
       "  order_status order_purchase_timestamp    order_approved_at  \\\n",
       "0    delivered      2017-10-02 10:56:33  2017-10-02 11:07:15   \n",
       "1    delivered      2018-07-24 20:41:37  2018-07-26 03:24:27   \n",
       "2    delivered      2018-08-08 08:38:49  2018-08-08 08:55:23   \n",
       "3    delivered      2017-11-18 19:28:06  2017-11-18 19:45:59   \n",
       "4    delivered      2018-02-13 21:18:39  2018-02-13 22:20:29   \n",
       "\n",
       "  order_delivered_carrier_date order_delivered_customer_date  \\\n",
       "0          2017-10-04 19:55:00           2017-10-10 21:25:13   \n",
       "1          2018-07-26 14:31:00           2018-08-07 15:27:45   \n",
       "2          2018-08-08 13:50:00           2018-08-17 18:06:29   \n",
       "3          2017-11-22 13:39:59           2017-12-02 00:28:42   \n",
       "4          2018-02-14 19:46:34           2018-02-16 18:17:02   \n",
       "\n",
       "  order_estimated_delivery_date  \n",
       "0           2017-10-18 00:00:00  \n",
       "1           2018-08-13 00:00:00  \n",
       "2           2018-09-04 00:00:00  \n",
       "3           2017-12-15 00:00:00  \n",
       "4           2018-02-26 00:00:00  "
      ]
     },
     "execution_count": 3,
     "metadata": {},
     "output_type": "execute_result"
    }
   ],
   "source": [
    "oo.head()"
   ]
  },
  {
   "cell_type": "code",
   "execution_count": 4,
   "id": "ca808120-0765-48d5-aec3-6eb66272dff2",
   "metadata": {},
   "outputs": [
    {
     "name": "stdout",
     "output_type": "stream",
     "text": [
      "<class 'pandas.core.frame.DataFrame'>\n",
      "RangeIndex: 99441 entries, 0 to 99440\n",
      "Data columns (total 8 columns):\n",
      " #   Column                         Non-Null Count  Dtype \n",
      "---  ------                         --------------  ----- \n",
      " 0   order_id                       99441 non-null  object\n",
      " 1   customer_id                    99441 non-null  object\n",
      " 2   order_status                   99441 non-null  object\n",
      " 3   order_purchase_timestamp       99441 non-null  object\n",
      " 4   order_approved_at              99281 non-null  object\n",
      " 5   order_delivered_carrier_date   97658 non-null  object\n",
      " 6   order_delivered_customer_date  96476 non-null  object\n",
      " 7   order_estimated_delivery_date  99441 non-null  object\n",
      "dtypes: object(8)\n",
      "memory usage: 6.1+ MB\n"
     ]
    }
   ],
   "source": [
    "oo.info()"
   ]
  },
  {
   "cell_type": "markdown",
   "id": "f5e22d2d-4a60-45ef-843a-2b6355208449",
   "metadata": {},
   "source": [
    "### 2.1.1. Convert all columns to suitable type"
   ]
  },
  {
   "cell_type": "code",
   "execution_count": 5,
   "id": "b339a57e-ef1b-4bfe-8929-5273c0dbdb9f",
   "metadata": {},
   "outputs": [],
   "source": [
    "oo['order_purchase_timestamp']= oo['order_purchase_timestamp'].astype('datetime64[ns]')\n",
    "oo['order_approved_at'] = oo['order_approved_at'].astype('datetime64[ns]')\n",
    "oo['order_delivered_carrier_date'] = oo['order_delivered_carrier_date'].astype('datetime64[ns]')\n",
    "oo['order_delivered_customer_date'] = oo['order_delivered_customer_date'].astype('datetime64[ns]')\n",
    "oo['order_estimated_delivery_date'] = oo['order_estimated_delivery_date'].astype('datetime64[ns]')"
   ]
  },
  {
   "cell_type": "markdown",
   "id": "b62c73fd-713e-4063-b4a1-afc9a0502ca2",
   "metadata": {},
   "source": [
    "### 2.1.2. Check for Null Value"
   ]
  },
  {
   "cell_type": "code",
   "execution_count": 6,
   "id": "e0276f63-707f-45a6-97d1-60759e8192b4",
   "metadata": {},
   "outputs": [
    {
     "data": {
      "text/plain": [
       "order_id                            0\n",
       "customer_id                         0\n",
       "order_status                        0\n",
       "order_purchase_timestamp            0\n",
       "order_approved_at                 160\n",
       "order_delivered_carrier_date     1783\n",
       "order_delivered_customer_date    2965\n",
       "order_estimated_delivery_date       0\n",
       "dtype: int64"
      ]
     },
     "execution_count": 6,
     "metadata": {},
     "output_type": "execute_result"
    }
   ],
   "source": [
    "oo.isnull().sum()                                  "
   ]
  },
  {
   "cell_type": "markdown",
   "id": "dcdfd576-6b50-409e-9cf8-4cbfbaed23eb",
   "metadata": {},
   "source": [
    "##### There are 3 columns with missing values, all in datetime type, so I decided to fill them with the value from their above row. However, to ensure that the filled date is not less than the date appearing in the previous column (order_delivered_carrier_date < order_approved_at, for instance), I set the condition that if the filled date is lower, it will be filled with the data from the left column and plus 1 day"
   ]
  },
  {
   "cell_type": "code",
   "execution_count": 7,
   "id": "d10a1756-8432-4e3c-b5eb-1978abfb8311",
   "metadata": {},
   "outputs": [],
   "source": [
    "oo['order_approved_at'] = oo['order_approved_at'].ffill()\n",
    "oo['order_approved_at'] = np.where(oo['order_approved_at'] < oo['order_purchase_timestamp'],\n",
    "                                oo['order_purchase_timestamp'] + pd.DateOffset(days=1),\n",
    "                                oo['order_approved_at'] + pd.DateOffset(days=0))\n",
    "\n",
    "oo['order_delivered_carrier_date'] = oo['order_delivered_carrier_date'].ffill()\n",
    "oo['order_delivered_carrier_date'] = np.where(oo['order_delivered_carrier_date'] < oo['order_approved_at'],\n",
    "                                oo['order_approved_at'] + pd.DateOffset(days=1),\n",
    "                                oo['order_delivered_carrier_date'] + pd.DateOffset(days=0))\n",
    "\n",
    "oo['order_delivered_customer_date'] = oo['order_delivered_customer_date'].ffill()\n",
    "oo['order_delivered_customer_date'] = np.where(oo['order_delivered_customer_date'] < oo['order_delivered_carrier_date'],\n",
    "                                oo['order_delivered_carrier_date'] + pd.DateOffset(days=1),\n",
    "                                oo['order_delivered_customer_date'] + pd.DateOffset(days=0))"
   ]
  },
  {
   "cell_type": "markdown",
   "id": "3d688d7e-c135-491f-a5ae-73bf09a1589b",
   "metadata": {},
   "source": [
    "### 2.1.3. Check for Duplicated Value"
   ]
  },
  {
   "cell_type": "code",
   "execution_count": 8,
   "id": "e3a5ad14-362e-4a97-8ce3-7014dd041698",
   "metadata": {},
   "outputs": [
    {
     "data": {
      "text/plain": [
       "0"
      ]
     },
     "execution_count": 8,
     "metadata": {},
     "output_type": "execute_result"
    }
   ],
   "source": [
    "oo.duplicated().sum()"
   ]
  },
  {
   "cell_type": "markdown",
   "id": "56e3af5b-7ded-405b-97b9-4c64a6763d70",
   "metadata": {},
   "source": [
    "### 2.1.4. Check if there is any mispell word in 'order_status' column"
   ]
  },
  {
   "cell_type": "code",
   "execution_count": 9,
   "id": "05386b3f-1e42-472c-b734-ba33edacaa38",
   "metadata": {},
   "outputs": [
    {
     "data": {
      "text/plain": [
       "array(['delivered', 'invoiced', 'shipped', 'processing', 'unavailable',\n",
       "       'canceled', 'created', 'approved'], dtype=object)"
      ]
     },
     "execution_count": 9,
     "metadata": {},
     "output_type": "execute_result"
    }
   ],
   "source": [
    "oo['order_status'].unique()"
   ]
  },
  {
   "cell_type": "markdown",
   "id": "06be777c-8453-4636-8a50-57f78e6b4c60",
   "metadata": {},
   "source": [
    "## 2.2. Oder Items Data"
   ]
  },
  {
   "cell_type": "code",
   "execution_count": 10,
   "id": "1c975377-9618-4ee9-8cba-981328fb2256",
   "metadata": {},
   "outputs": [
    {
     "data": {
      "text/html": [
       "<div>\n",
       "<style scoped>\n",
       "    .dataframe tbody tr th:only-of-type {\n",
       "        vertical-align: middle;\n",
       "    }\n",
       "\n",
       "    .dataframe tbody tr th {\n",
       "        vertical-align: top;\n",
       "    }\n",
       "\n",
       "    .dataframe thead th {\n",
       "        text-align: right;\n",
       "    }\n",
       "</style>\n",
       "<table border=\"1\" class=\"dataframe\">\n",
       "  <thead>\n",
       "    <tr style=\"text-align: right;\">\n",
       "      <th></th>\n",
       "      <th>order_id</th>\n",
       "      <th>order_item_id</th>\n",
       "      <th>product_id</th>\n",
       "      <th>seller_id</th>\n",
       "      <th>shipping_limit_date</th>\n",
       "      <th>price</th>\n",
       "      <th>freight_value</th>\n",
       "    </tr>\n",
       "  </thead>\n",
       "  <tbody>\n",
       "    <tr>\n",
       "      <th>0</th>\n",
       "      <td>00010242fe8c5a6d1ba2dd792cb16214</td>\n",
       "      <td>1</td>\n",
       "      <td>4244733e06e7ecb4970a6e2683c13e61</td>\n",
       "      <td>48436dade18ac8b2bce089ec2a041202</td>\n",
       "      <td>2017-09-19 09:45:35</td>\n",
       "      <td>58.90</td>\n",
       "      <td>13.29</td>\n",
       "    </tr>\n",
       "    <tr>\n",
       "      <th>1</th>\n",
       "      <td>00018f77f2f0320c557190d7a144bdd3</td>\n",
       "      <td>1</td>\n",
       "      <td>e5f2d52b802189ee658865ca93d83a8f</td>\n",
       "      <td>dd7ddc04e1b6c2c614352b383efe2d36</td>\n",
       "      <td>2017-05-03 11:05:13</td>\n",
       "      <td>239.90</td>\n",
       "      <td>19.93</td>\n",
       "    </tr>\n",
       "    <tr>\n",
       "      <th>2</th>\n",
       "      <td>000229ec398224ef6ca0657da4fc703e</td>\n",
       "      <td>1</td>\n",
       "      <td>c777355d18b72b67abbeef9df44fd0fd</td>\n",
       "      <td>5b51032eddd242adc84c38acab88f23d</td>\n",
       "      <td>2018-01-18 14:48:30</td>\n",
       "      <td>199.00</td>\n",
       "      <td>17.87</td>\n",
       "    </tr>\n",
       "    <tr>\n",
       "      <th>3</th>\n",
       "      <td>00024acbcdf0a6daa1e931b038114c75</td>\n",
       "      <td>1</td>\n",
       "      <td>7634da152a4610f1595efa32f14722fc</td>\n",
       "      <td>9d7a1d34a5052409006425275ba1c2b4</td>\n",
       "      <td>2018-08-15 10:10:18</td>\n",
       "      <td>12.99</td>\n",
       "      <td>12.79</td>\n",
       "    </tr>\n",
       "    <tr>\n",
       "      <th>4</th>\n",
       "      <td>00042b26cf59d7ce69dfabb4e55b4fd9</td>\n",
       "      <td>1</td>\n",
       "      <td>ac6c3623068f30de03045865e4e10089</td>\n",
       "      <td>df560393f3a51e74553ab94004ba5c87</td>\n",
       "      <td>2017-02-13 13:57:51</td>\n",
       "      <td>199.90</td>\n",
       "      <td>18.14</td>\n",
       "    </tr>\n",
       "  </tbody>\n",
       "</table>\n",
       "</div>"
      ],
      "text/plain": [
       "                           order_id  order_item_id  \\\n",
       "0  00010242fe8c5a6d1ba2dd792cb16214              1   \n",
       "1  00018f77f2f0320c557190d7a144bdd3              1   \n",
       "2  000229ec398224ef6ca0657da4fc703e              1   \n",
       "3  00024acbcdf0a6daa1e931b038114c75              1   \n",
       "4  00042b26cf59d7ce69dfabb4e55b4fd9              1   \n",
       "\n",
       "                         product_id                         seller_id  \\\n",
       "0  4244733e06e7ecb4970a6e2683c13e61  48436dade18ac8b2bce089ec2a041202   \n",
       "1  e5f2d52b802189ee658865ca93d83a8f  dd7ddc04e1b6c2c614352b383efe2d36   \n",
       "2  c777355d18b72b67abbeef9df44fd0fd  5b51032eddd242adc84c38acab88f23d   \n",
       "3  7634da152a4610f1595efa32f14722fc  9d7a1d34a5052409006425275ba1c2b4   \n",
       "4  ac6c3623068f30de03045865e4e10089  df560393f3a51e74553ab94004ba5c87   \n",
       "\n",
       "   shipping_limit_date   price  freight_value  \n",
       "0  2017-09-19 09:45:35   58.90          13.29  \n",
       "1  2017-05-03 11:05:13  239.90          19.93  \n",
       "2  2018-01-18 14:48:30  199.00          17.87  \n",
       "3  2018-08-15 10:10:18   12.99          12.79  \n",
       "4  2017-02-13 13:57:51  199.90          18.14  "
      ]
     },
     "execution_count": 10,
     "metadata": {},
     "output_type": "execute_result"
    }
   ],
   "source": [
    "ooi.head()"
   ]
  },
  {
   "cell_type": "code",
   "execution_count": 11,
   "id": "ed2e3edf-3ab6-4059-bfcf-a68b36383035",
   "metadata": {},
   "outputs": [
    {
     "name": "stdout",
     "output_type": "stream",
     "text": [
      "<class 'pandas.core.frame.DataFrame'>\n",
      "RangeIndex: 112650 entries, 0 to 112649\n",
      "Data columns (total 7 columns):\n",
      " #   Column               Non-Null Count   Dtype  \n",
      "---  ------               --------------   -----  \n",
      " 0   order_id             112650 non-null  object \n",
      " 1   order_item_id        112650 non-null  int64  \n",
      " 2   product_id           112650 non-null  object \n",
      " 3   seller_id            112650 non-null  object \n",
      " 4   shipping_limit_date  112650 non-null  object \n",
      " 5   price                112650 non-null  float64\n",
      " 6   freight_value        112650 non-null  float64\n",
      "dtypes: float64(2), int64(1), object(4)\n",
      "memory usage: 6.0+ MB\n"
     ]
    }
   ],
   "source": [
    "ooi.info()"
   ]
  },
  {
   "cell_type": "markdown",
   "id": "66575e2b-de14-46a1-987f-f8152f167109",
   "metadata": {},
   "source": [
    "##### So there is no null value at all"
   ]
  },
  {
   "cell_type": "markdown",
   "id": "5a4e411b-1b82-43a7-84bf-951bee1576cc",
   "metadata": {},
   "source": [
    "### 2.2.1. Check for Duplicated Value"
   ]
  },
  {
   "cell_type": "code",
   "execution_count": 12,
   "id": "6b5ce2e9-7a8a-4318-9704-c8760d177073",
   "metadata": {},
   "outputs": [
    {
     "data": {
      "text/plain": [
       "0"
      ]
     },
     "execution_count": 12,
     "metadata": {},
     "output_type": "execute_result"
    }
   ],
   "source": [
    "ooi.duplicated().sum()"
   ]
  },
  {
   "cell_type": "markdown",
   "id": "2caaad02-db42-4f69-a827-ad625c4c9d4d",
   "metadata": {},
   "source": [
    "### 2.2.2. Convert all columns to suitable type"
   ]
  },
  {
   "cell_type": "code",
   "execution_count": 13,
   "id": "a4c8b7bb-1fe8-4735-8e2c-97d1124bbab2",
   "metadata": {},
   "outputs": [],
   "source": [
    "ooi['shipping_limit_date'] = ooi['shipping_limit_date'].astype('datetime64[ns]')"
   ]
  },
  {
   "cell_type": "markdown",
   "id": "0b51c271-b225-462f-b4bf-ce08e3361b18",
   "metadata": {},
   "source": [
    "## 2.3. Order Reviews Data"
   ]
  },
  {
   "cell_type": "code",
   "execution_count": 14,
   "id": "495891e3-8f3e-467e-9ab4-8546e61b47f0",
   "metadata": {},
   "outputs": [
    {
     "data": {
      "text/html": [
       "<div>\n",
       "<style scoped>\n",
       "    .dataframe tbody tr th:only-of-type {\n",
       "        vertical-align: middle;\n",
       "    }\n",
       "\n",
       "    .dataframe tbody tr th {\n",
       "        vertical-align: top;\n",
       "    }\n",
       "\n",
       "    .dataframe thead th {\n",
       "        text-align: right;\n",
       "    }\n",
       "</style>\n",
       "<table border=\"1\" class=\"dataframe\">\n",
       "  <thead>\n",
       "    <tr style=\"text-align: right;\">\n",
       "      <th></th>\n",
       "      <th>review_id</th>\n",
       "      <th>order_id</th>\n",
       "      <th>review_score</th>\n",
       "      <th>review_comment_title</th>\n",
       "      <th>review_comment_message</th>\n",
       "      <th>review_creation_date</th>\n",
       "      <th>review_answer_timestamp</th>\n",
       "    </tr>\n",
       "  </thead>\n",
       "  <tbody>\n",
       "    <tr>\n",
       "      <th>0</th>\n",
       "      <td>7bc2406110b926393aa56f80a40eba40</td>\n",
       "      <td>73fc7af87114b39712e6da79b0a377eb</td>\n",
       "      <td>4</td>\n",
       "      <td>NaN</td>\n",
       "      <td>NaN</td>\n",
       "      <td>2018-01-18 00:00:00</td>\n",
       "      <td>2018-01-18 21:46:59</td>\n",
       "    </tr>\n",
       "    <tr>\n",
       "      <th>1</th>\n",
       "      <td>80e641a11e56f04c1ad469d5645fdfde</td>\n",
       "      <td>a548910a1c6147796b98fdf73dbeba33</td>\n",
       "      <td>5</td>\n",
       "      <td>NaN</td>\n",
       "      <td>NaN</td>\n",
       "      <td>2018-03-10 00:00:00</td>\n",
       "      <td>2018-03-11 03:05:13</td>\n",
       "    </tr>\n",
       "    <tr>\n",
       "      <th>2</th>\n",
       "      <td>228ce5500dc1d8e020d8d1322874b6f0</td>\n",
       "      <td>f9e4b658b201a9f2ecdecbb34bed034b</td>\n",
       "      <td>5</td>\n",
       "      <td>NaN</td>\n",
       "      <td>NaN</td>\n",
       "      <td>2018-02-17 00:00:00</td>\n",
       "      <td>2018-02-18 14:36:24</td>\n",
       "    </tr>\n",
       "    <tr>\n",
       "      <th>3</th>\n",
       "      <td>e64fb393e7b32834bb789ff8bb30750e</td>\n",
       "      <td>658677c97b385a9be170737859d3511b</td>\n",
       "      <td>5</td>\n",
       "      <td>NaN</td>\n",
       "      <td>Recebi bem antes do prazo estipulado.</td>\n",
       "      <td>2017-04-21 00:00:00</td>\n",
       "      <td>2017-04-21 22:02:06</td>\n",
       "    </tr>\n",
       "    <tr>\n",
       "      <th>4</th>\n",
       "      <td>f7c4243c7fe1938f181bec41a392bdeb</td>\n",
       "      <td>8e6bfb81e283fa7e4f11123a3fb894f1</td>\n",
       "      <td>5</td>\n",
       "      <td>NaN</td>\n",
       "      <td>Parabéns lojas lannister adorei comprar pela I...</td>\n",
       "      <td>2018-03-01 00:00:00</td>\n",
       "      <td>2018-03-02 10:26:53</td>\n",
       "    </tr>\n",
       "  </tbody>\n",
       "</table>\n",
       "</div>"
      ],
      "text/plain": [
       "                          review_id                          order_id  \\\n",
       "0  7bc2406110b926393aa56f80a40eba40  73fc7af87114b39712e6da79b0a377eb   \n",
       "1  80e641a11e56f04c1ad469d5645fdfde  a548910a1c6147796b98fdf73dbeba33   \n",
       "2  228ce5500dc1d8e020d8d1322874b6f0  f9e4b658b201a9f2ecdecbb34bed034b   \n",
       "3  e64fb393e7b32834bb789ff8bb30750e  658677c97b385a9be170737859d3511b   \n",
       "4  f7c4243c7fe1938f181bec41a392bdeb  8e6bfb81e283fa7e4f11123a3fb894f1   \n",
       "\n",
       "   review_score review_comment_title  \\\n",
       "0             4                  NaN   \n",
       "1             5                  NaN   \n",
       "2             5                  NaN   \n",
       "3             5                  NaN   \n",
       "4             5                  NaN   \n",
       "\n",
       "                              review_comment_message review_creation_date  \\\n",
       "0                                                NaN  2018-01-18 00:00:00   \n",
       "1                                                NaN  2018-03-10 00:00:00   \n",
       "2                                                NaN  2018-02-17 00:00:00   \n",
       "3              Recebi bem antes do prazo estipulado.  2017-04-21 00:00:00   \n",
       "4  Parabéns lojas lannister adorei comprar pela I...  2018-03-01 00:00:00   \n",
       "\n",
       "  review_answer_timestamp  \n",
       "0     2018-01-18 21:46:59  \n",
       "1     2018-03-11 03:05:13  \n",
       "2     2018-02-18 14:36:24  \n",
       "3     2017-04-21 22:02:06  \n",
       "4     2018-03-02 10:26:53  "
      ]
     },
     "execution_count": 14,
     "metadata": {},
     "output_type": "execute_result"
    }
   ],
   "source": [
    "oor.head()"
   ]
  },
  {
   "cell_type": "markdown",
   "id": "304a0a65-cdbd-45fc-9632-335da0cb59fa",
   "metadata": {},
   "source": [
    "oor.info()"
   ]
  },
  {
   "cell_type": "markdown",
   "id": "2bed84ab-13cf-4e7a-8f98-d3d1d8d73baf",
   "metadata": {},
   "source": [
    "### 2.3.1. Check for Null value"
   ]
  },
  {
   "cell_type": "code",
   "execution_count": 15,
   "id": "334971e3-e573-403f-8358-865a59509b3f",
   "metadata": {},
   "outputs": [
    {
     "data": {
      "text/plain": [
       "review_id                      0\n",
       "order_id                       0\n",
       "review_score                   0\n",
       "review_comment_title       87656\n",
       "review_comment_message     58247\n",
       "review_creation_date           0\n",
       "review_answer_timestamp        0\n",
       "dtype: int64"
      ]
     },
     "execution_count": 15,
     "metadata": {},
     "output_type": "execute_result"
    }
   ],
   "source": [
    "oor.isnull().sum()"
   ]
  },
  {
   "cell_type": "code",
   "execution_count": 16,
   "id": "1d6a5f2d-84b6-4394-b4ae-ec5d671947d7",
   "metadata": {},
   "outputs": [],
   "source": [
    "oor = oor.drop ([\"review_comment_title\", \"review_comment_message\"], axis = 1)"
   ]
  },
  {
   "cell_type": "markdown",
   "id": "41f3caaf-aafc-412e-b3d8-4db235783ced",
   "metadata": {},
   "source": [
    "### 2.3.2. Check for Duplicated Value"
   ]
  },
  {
   "cell_type": "code",
   "execution_count": 17,
   "id": "1e6cf58a-8b24-41f0-9230-96cfb7eed6a3",
   "metadata": {},
   "outputs": [
    {
     "data": {
      "text/plain": [
       "0"
      ]
     },
     "execution_count": 17,
     "metadata": {},
     "output_type": "execute_result"
    }
   ],
   "source": [
    "oor.duplicated().sum()"
   ]
  },
  {
   "cell_type": "markdown",
   "id": "0090afb5-8668-436f-81bf-11c08ad74cc2",
   "metadata": {},
   "source": [
    "### 2.3.3. Convert all columns to suitable type"
   ]
  },
  {
   "cell_type": "code",
   "execution_count": 18,
   "id": "238d4716-439d-4726-a885-2d426f6389ea",
   "metadata": {},
   "outputs": [],
   "source": [
    "oor['review_creation_date']= oor['review_creation_date'].astype('datetime64[ns]')\n",
    "oor['review_answer_timestamp']= oor['review_answer_timestamp'].astype('datetime64[ns]')"
   ]
  },
  {
   "cell_type": "markdown",
   "id": "281a8b7c-86d1-4a0e-b3de-b8fc2c78fefc",
   "metadata": {},
   "source": [
    "## 2.4. Order Payment Data"
   ]
  },
  {
   "cell_type": "code",
   "execution_count": 19,
   "id": "f01c7231-b47c-40e4-a221-b397067b9313",
   "metadata": {},
   "outputs": [
    {
     "data": {
      "text/html": [
       "<div>\n",
       "<style scoped>\n",
       "    .dataframe tbody tr th:only-of-type {\n",
       "        vertical-align: middle;\n",
       "    }\n",
       "\n",
       "    .dataframe tbody tr th {\n",
       "        vertical-align: top;\n",
       "    }\n",
       "\n",
       "    .dataframe thead th {\n",
       "        text-align: right;\n",
       "    }\n",
       "</style>\n",
       "<table border=\"1\" class=\"dataframe\">\n",
       "  <thead>\n",
       "    <tr style=\"text-align: right;\">\n",
       "      <th></th>\n",
       "      <th>order_id</th>\n",
       "      <th>payment_sequential</th>\n",
       "      <th>payment_type</th>\n",
       "      <th>payment_installments</th>\n",
       "      <th>payment_value</th>\n",
       "    </tr>\n",
       "  </thead>\n",
       "  <tbody>\n",
       "    <tr>\n",
       "      <th>0</th>\n",
       "      <td>b81ef226f3fe1789b1e8b2acac839d17</td>\n",
       "      <td>1</td>\n",
       "      <td>credit_card</td>\n",
       "      <td>8</td>\n",
       "      <td>99.33</td>\n",
       "    </tr>\n",
       "    <tr>\n",
       "      <th>1</th>\n",
       "      <td>a9810da82917af2d9aefd1278f1dcfa0</td>\n",
       "      <td>1</td>\n",
       "      <td>credit_card</td>\n",
       "      <td>1</td>\n",
       "      <td>24.39</td>\n",
       "    </tr>\n",
       "    <tr>\n",
       "      <th>2</th>\n",
       "      <td>25e8ea4e93396b6fa0d3dd708e76c1bd</td>\n",
       "      <td>1</td>\n",
       "      <td>credit_card</td>\n",
       "      <td>1</td>\n",
       "      <td>65.71</td>\n",
       "    </tr>\n",
       "    <tr>\n",
       "      <th>3</th>\n",
       "      <td>ba78997921bbcdc1373bb41e913ab953</td>\n",
       "      <td>1</td>\n",
       "      <td>credit_card</td>\n",
       "      <td>8</td>\n",
       "      <td>107.78</td>\n",
       "    </tr>\n",
       "    <tr>\n",
       "      <th>4</th>\n",
       "      <td>42fdf880ba16b47b59251dd489d4441a</td>\n",
       "      <td>1</td>\n",
       "      <td>credit_card</td>\n",
       "      <td>2</td>\n",
       "      <td>128.45</td>\n",
       "    </tr>\n",
       "  </tbody>\n",
       "</table>\n",
       "</div>"
      ],
      "text/plain": [
       "                           order_id  payment_sequential payment_type  \\\n",
       "0  b81ef226f3fe1789b1e8b2acac839d17                   1  credit_card   \n",
       "1  a9810da82917af2d9aefd1278f1dcfa0                   1  credit_card   \n",
       "2  25e8ea4e93396b6fa0d3dd708e76c1bd                   1  credit_card   \n",
       "3  ba78997921bbcdc1373bb41e913ab953                   1  credit_card   \n",
       "4  42fdf880ba16b47b59251dd489d4441a                   1  credit_card   \n",
       "\n",
       "   payment_installments  payment_value  \n",
       "0                     8          99.33  \n",
       "1                     1          24.39  \n",
       "2                     1          65.71  \n",
       "3                     8         107.78  \n",
       "4                     2         128.45  "
      ]
     },
     "execution_count": 19,
     "metadata": {},
     "output_type": "execute_result"
    }
   ],
   "source": [
    "oop.head()"
   ]
  },
  {
   "cell_type": "code",
   "execution_count": 20,
   "id": "25129429-a893-4256-be07-671a5990105e",
   "metadata": {},
   "outputs": [
    {
     "name": "stdout",
     "output_type": "stream",
     "text": [
      "<class 'pandas.core.frame.DataFrame'>\n",
      "RangeIndex: 103886 entries, 0 to 103885\n",
      "Data columns (total 5 columns):\n",
      " #   Column                Non-Null Count   Dtype  \n",
      "---  ------                --------------   -----  \n",
      " 0   order_id              103886 non-null  object \n",
      " 1   payment_sequential    103886 non-null  int64  \n",
      " 2   payment_type          103886 non-null  object \n",
      " 3   payment_installments  103886 non-null  int64  \n",
      " 4   payment_value         103886 non-null  float64\n",
      "dtypes: float64(1), int64(2), object(2)\n",
      "memory usage: 4.0+ MB\n"
     ]
    }
   ],
   "source": [
    "oop.info()"
   ]
  },
  {
   "cell_type": "markdown",
   "id": "129b0eee-8168-40fc-88e7-25b93305ad67",
   "metadata": {},
   "source": [
    "### 2.4.1. Check for Duplicated Value"
   ]
  },
  {
   "cell_type": "code",
   "execution_count": 21,
   "id": "54923020-88b9-4e88-843c-a03de00e0483",
   "metadata": {},
   "outputs": [
    {
     "data": {
      "text/plain": [
       "0"
      ]
     },
     "execution_count": 21,
     "metadata": {},
     "output_type": "execute_result"
    }
   ],
   "source": [
    "oop.duplicated().sum()"
   ]
  },
  {
   "cell_type": "markdown",
   "id": "58ba0e7b-01f9-4874-8447-e2a7e6e48ace",
   "metadata": {},
   "source": [
    "### 2.4.2. Check if there is any mispell word in 'payment_type' column"
   ]
  },
  {
   "cell_type": "code",
   "execution_count": 22,
   "id": "d521ae7e-4975-4e2e-b3c3-51bbdc13cbb0",
   "metadata": {},
   "outputs": [
    {
     "data": {
      "text/plain": [
       "array(['Credit Card', 'Boleto', 'Voucher', 'Debit Card', 'Not Defined'],\n",
       "      dtype=object)"
      ]
     },
     "execution_count": 22,
     "metadata": {},
     "output_type": "execute_result"
    }
   ],
   "source": [
    "oop['payment_type'] = oop['payment_type'].str.replace('_',' ')\n",
    "oop['payment_type'] = oop['payment_type'].str.title()\n",
    "oop['payment_type'].unique()"
   ]
  },
  {
   "cell_type": "markdown",
   "id": "275f5cad-230f-441c-8747-0d072c00ed38",
   "metadata": {},
   "source": [
    "## 2.5. Geolocation Data"
   ]
  },
  {
   "cell_type": "code",
   "execution_count": 23,
   "id": "98dfd45c-e9fa-4282-bde5-de18d3dcb077",
   "metadata": {},
   "outputs": [
    {
     "data": {
      "text/html": [
       "<div>\n",
       "<style scoped>\n",
       "    .dataframe tbody tr th:only-of-type {\n",
       "        vertical-align: middle;\n",
       "    }\n",
       "\n",
       "    .dataframe tbody tr th {\n",
       "        vertical-align: top;\n",
       "    }\n",
       "\n",
       "    .dataframe thead th {\n",
       "        text-align: right;\n",
       "    }\n",
       "</style>\n",
       "<table border=\"1\" class=\"dataframe\">\n",
       "  <thead>\n",
       "    <tr style=\"text-align: right;\">\n",
       "      <th></th>\n",
       "      <th>geolocation_zip_code_prefix</th>\n",
       "      <th>geolocation_lat</th>\n",
       "      <th>geolocation_lng</th>\n",
       "      <th>geolocation_city</th>\n",
       "      <th>geolocation_state</th>\n",
       "    </tr>\n",
       "  </thead>\n",
       "  <tbody>\n",
       "    <tr>\n",
       "      <th>0</th>\n",
       "      <td>1037</td>\n",
       "      <td>-23.545621</td>\n",
       "      <td>-46.639292</td>\n",
       "      <td>sao paulo</td>\n",
       "      <td>SP</td>\n",
       "    </tr>\n",
       "    <tr>\n",
       "      <th>1</th>\n",
       "      <td>1046</td>\n",
       "      <td>-23.546081</td>\n",
       "      <td>-46.644820</td>\n",
       "      <td>sao paulo</td>\n",
       "      <td>SP</td>\n",
       "    </tr>\n",
       "    <tr>\n",
       "      <th>2</th>\n",
       "      <td>1046</td>\n",
       "      <td>-23.546129</td>\n",
       "      <td>-46.642951</td>\n",
       "      <td>sao paulo</td>\n",
       "      <td>SP</td>\n",
       "    </tr>\n",
       "    <tr>\n",
       "      <th>3</th>\n",
       "      <td>1041</td>\n",
       "      <td>-23.544392</td>\n",
       "      <td>-46.639499</td>\n",
       "      <td>sao paulo</td>\n",
       "      <td>SP</td>\n",
       "    </tr>\n",
       "    <tr>\n",
       "      <th>4</th>\n",
       "      <td>1035</td>\n",
       "      <td>-23.541578</td>\n",
       "      <td>-46.641607</td>\n",
       "      <td>sao paulo</td>\n",
       "      <td>SP</td>\n",
       "    </tr>\n",
       "  </tbody>\n",
       "</table>\n",
       "</div>"
      ],
      "text/plain": [
       "   geolocation_zip_code_prefix  geolocation_lat  geolocation_lng  \\\n",
       "0                         1037       -23.545621       -46.639292   \n",
       "1                         1046       -23.546081       -46.644820   \n",
       "2                         1046       -23.546129       -46.642951   \n",
       "3                         1041       -23.544392       -46.639499   \n",
       "4                         1035       -23.541578       -46.641607   \n",
       "\n",
       "  geolocation_city geolocation_state  \n",
       "0        sao paulo                SP  \n",
       "1        sao paulo                SP  \n",
       "2        sao paulo                SP  \n",
       "3        sao paulo                SP  \n",
       "4        sao paulo                SP  "
      ]
     },
     "execution_count": 23,
     "metadata": {},
     "output_type": "execute_result"
    }
   ],
   "source": [
    "og.head()"
   ]
  },
  {
   "cell_type": "code",
   "execution_count": 24,
   "id": "4f4c7692-f98f-412a-a778-7c1c50f6d86b",
   "metadata": {},
   "outputs": [
    {
     "name": "stdout",
     "output_type": "stream",
     "text": [
      "<class 'pandas.core.frame.DataFrame'>\n",
      "RangeIndex: 1000163 entries, 0 to 1000162\n",
      "Data columns (total 5 columns):\n",
      " #   Column                       Non-Null Count    Dtype  \n",
      "---  ------                       --------------    -----  \n",
      " 0   geolocation_zip_code_prefix  1000163 non-null  int64  \n",
      " 1   geolocation_lat              1000163 non-null  float64\n",
      " 2   geolocation_lng              1000163 non-null  float64\n",
      " 3   geolocation_city             1000163 non-null  object \n",
      " 4   geolocation_state            1000163 non-null  object \n",
      "dtypes: float64(2), int64(1), object(2)\n",
      "memory usage: 38.2+ MB\n"
     ]
    }
   ],
   "source": [
    "og.info()"
   ]
  },
  {
   "cell_type": "markdown",
   "id": "43413035-08cb-46f9-90f1-0ae4c01a60ae",
   "metadata": {},
   "source": [
    "##### From the Info, there is no Null Value"
   ]
  },
  {
   "cell_type": "markdown",
   "id": "17b84d73-c9dc-4e9c-9ed8-b7c768a7ff39",
   "metadata": {},
   "source": [
    "### 2.5.1. Check for Duplicated Value"
   ]
  },
  {
   "cell_type": "code",
   "execution_count": 25,
   "id": "2e784393-206d-4318-ac6d-3944c1d1d43e",
   "metadata": {},
   "outputs": [
    {
     "data": {
      "text/plain": [
       "261831"
      ]
     },
     "execution_count": 25,
     "metadata": {},
     "output_type": "execute_result"
    }
   ],
   "source": [
    "og.duplicated().sum()"
   ]
  },
  {
   "cell_type": "code",
   "execution_count": 26,
   "id": "39dc6446-8f30-48c5-a037-53d1dc812e33",
   "metadata": {},
   "outputs": [
    {
     "data": {
      "text/html": [
       "<div>\n",
       "<style scoped>\n",
       "    .dataframe tbody tr th:only-of-type {\n",
       "        vertical-align: middle;\n",
       "    }\n",
       "\n",
       "    .dataframe tbody tr th {\n",
       "        vertical-align: top;\n",
       "    }\n",
       "\n",
       "    .dataframe thead th {\n",
       "        text-align: right;\n",
       "    }\n",
       "</style>\n",
       "<table border=\"1\" class=\"dataframe\">\n",
       "  <thead>\n",
       "    <tr style=\"text-align: right;\">\n",
       "      <th></th>\n",
       "      <th>geolocation_zip_code_prefix</th>\n",
       "      <th>geolocation_lat</th>\n",
       "      <th>geolocation_lng</th>\n",
       "      <th>geolocation_city</th>\n",
       "      <th>geolocation_state</th>\n",
       "    </tr>\n",
       "  </thead>\n",
       "  <tbody>\n",
       "    <tr>\n",
       "      <th>15</th>\n",
       "      <td>1046</td>\n",
       "      <td>-23.546081</td>\n",
       "      <td>-46.644820</td>\n",
       "      <td>sao paulo</td>\n",
       "      <td>SP</td>\n",
       "    </tr>\n",
       "    <tr>\n",
       "      <th>44</th>\n",
       "      <td>1046</td>\n",
       "      <td>-23.546081</td>\n",
       "      <td>-46.644820</td>\n",
       "      <td>sao paulo</td>\n",
       "      <td>SP</td>\n",
       "    </tr>\n",
       "    <tr>\n",
       "      <th>65</th>\n",
       "      <td>1046</td>\n",
       "      <td>-23.546081</td>\n",
       "      <td>-46.644820</td>\n",
       "      <td>sao paulo</td>\n",
       "      <td>SP</td>\n",
       "    </tr>\n",
       "    <tr>\n",
       "      <th>66</th>\n",
       "      <td>1009</td>\n",
       "      <td>-23.546935</td>\n",
       "      <td>-46.636588</td>\n",
       "      <td>sao paulo</td>\n",
       "      <td>SP</td>\n",
       "    </tr>\n",
       "    <tr>\n",
       "      <th>67</th>\n",
       "      <td>1046</td>\n",
       "      <td>-23.546081</td>\n",
       "      <td>-46.644820</td>\n",
       "      <td>sao paulo</td>\n",
       "      <td>SP</td>\n",
       "    </tr>\n",
       "    <tr>\n",
       "      <th>...</th>\n",
       "      <td>...</td>\n",
       "      <td>...</td>\n",
       "      <td>...</td>\n",
       "      <td>...</td>\n",
       "      <td>...</td>\n",
       "    </tr>\n",
       "    <tr>\n",
       "      <th>1000153</th>\n",
       "      <td>99970</td>\n",
       "      <td>-28.343273</td>\n",
       "      <td>-51.873734</td>\n",
       "      <td>ciriaco</td>\n",
       "      <td>RS</td>\n",
       "    </tr>\n",
       "    <tr>\n",
       "      <th>1000154</th>\n",
       "      <td>99950</td>\n",
       "      <td>-28.070493</td>\n",
       "      <td>-52.011342</td>\n",
       "      <td>tapejara</td>\n",
       "      <td>RS</td>\n",
       "    </tr>\n",
       "    <tr>\n",
       "      <th>1000159</th>\n",
       "      <td>99900</td>\n",
       "      <td>-27.877125</td>\n",
       "      <td>-52.224882</td>\n",
       "      <td>getulio vargas</td>\n",
       "      <td>RS</td>\n",
       "    </tr>\n",
       "    <tr>\n",
       "      <th>1000160</th>\n",
       "      <td>99950</td>\n",
       "      <td>-28.071855</td>\n",
       "      <td>-52.014716</td>\n",
       "      <td>tapejara</td>\n",
       "      <td>RS</td>\n",
       "    </tr>\n",
       "    <tr>\n",
       "      <th>1000162</th>\n",
       "      <td>99950</td>\n",
       "      <td>-28.070104</td>\n",
       "      <td>-52.018658</td>\n",
       "      <td>tapejara</td>\n",
       "      <td>RS</td>\n",
       "    </tr>\n",
       "  </tbody>\n",
       "</table>\n",
       "<p>261831 rows × 5 columns</p>\n",
       "</div>"
      ],
      "text/plain": [
       "         geolocation_zip_code_prefix  geolocation_lat  geolocation_lng  \\\n",
       "15                              1046       -23.546081       -46.644820   \n",
       "44                              1046       -23.546081       -46.644820   \n",
       "65                              1046       -23.546081       -46.644820   \n",
       "66                              1009       -23.546935       -46.636588   \n",
       "67                              1046       -23.546081       -46.644820   \n",
       "...                              ...              ...              ...   \n",
       "1000153                        99970       -28.343273       -51.873734   \n",
       "1000154                        99950       -28.070493       -52.011342   \n",
       "1000159                        99900       -27.877125       -52.224882   \n",
       "1000160                        99950       -28.071855       -52.014716   \n",
       "1000162                        99950       -28.070104       -52.018658   \n",
       "\n",
       "        geolocation_city geolocation_state  \n",
       "15             sao paulo                SP  \n",
       "44             sao paulo                SP  \n",
       "65             sao paulo                SP  \n",
       "66             sao paulo                SP  \n",
       "67             sao paulo                SP  \n",
       "...                  ...               ...  \n",
       "1000153          ciriaco                RS  \n",
       "1000154         tapejara                RS  \n",
       "1000159   getulio vargas                RS  \n",
       "1000160         tapejara                RS  \n",
       "1000162         tapejara                RS  \n",
       "\n",
       "[261831 rows x 5 columns]"
      ]
     },
     "execution_count": 26,
     "metadata": {},
     "output_type": "execute_result"
    }
   ],
   "source": [
    "og[og.duplicated()]"
   ]
  },
  {
   "cell_type": "code",
   "execution_count": 27,
   "id": "47de4c57-4ca2-4630-bdab-cfd18caf4b4d",
   "metadata": {},
   "outputs": [],
   "source": [
    "og = og.drop_duplicates()"
   ]
  },
  {
   "cell_type": "code",
   "execution_count": 28,
   "id": "0f741eec-d2bc-4cb9-9fcd-7ecff70d55a7",
   "metadata": {},
   "outputs": [
    {
     "data": {
      "text/plain": [
       "(738332, 5)"
      ]
     },
     "execution_count": 28,
     "metadata": {},
     "output_type": "execute_result"
    }
   ],
   "source": [
    "og.shape"
   ]
  },
  {
   "cell_type": "markdown",
   "id": "c826c49e-3e5b-48a3-9084-49fbd6d6b666",
   "metadata": {},
   "source": [
    "##### The number of row reduce from over 1.000.000 at the begining to 738.332 now"
   ]
  },
  {
   "cell_type": "markdown",
   "id": "c370e124-cb5b-4e70-9b46-15d09f5ea6e6",
   "metadata": {},
   "source": [
    "### 2.5.2. Check if there is any mispell word in 'geolocation_city' column"
   ]
  },
  {
   "cell_type": "code",
   "execution_count": 29,
   "id": "63b476ae-8e5f-49ff-b15f-2e81d6417bad",
   "metadata": {},
   "outputs": [
    {
     "data": {
      "text/plain": [
       "array(['sao paulo', 'são paulo', 'sao bernardo do campo', ..., 'ciríaco',\n",
       "       'estação', 'vila lângaro'], dtype=object)"
      ]
     },
     "execution_count": 29,
     "metadata": {},
     "output_type": "execute_result"
    }
   ],
   "source": [
    "og['geolocation_city'].unique()"
   ]
  },
  {
   "cell_type": "code",
   "execution_count": 30,
   "id": "f4ade16c-53c4-44c7-a209-270a65753758",
   "metadata": {},
   "outputs": [
    {
     "data": {
      "text/plain": [
       "8011"
      ]
     },
     "execution_count": 30,
     "metadata": {},
     "output_type": "execute_result"
    }
   ],
   "source": [
    "og['geolocation_city'].nunique()"
   ]
  },
  {
   "cell_type": "markdown",
   "id": "013caac6-3d49-47d5-a003-e52d31f5e517",
   "metadata": {},
   "source": [
    "##### It can be clearly seen that the data has some special characters and mispelled words, and there are over 8.000 different cities in the data"
   ]
  },
  {
   "cell_type": "code",
   "execution_count": 31,
   "id": "f83fa5c8-48f5-4e65-8623-ecb0c49d3129",
   "metadata": {},
   "outputs": [
    {
     "data": {
      "text/plain": [
       "5901"
      ]
     },
     "execution_count": 31,
     "metadata": {},
     "output_type": "execute_result"
    }
   ],
   "source": [
    "from unidecode import unidecode\n",
    "og.loc[:,'geolocation_city'] = og['geolocation_city'].apply(lambda x: unidecode(x))                  # Transform local writing into international one(from 'são' to 'sao') \n",
    "og.loc[:,'geolocation_city'] = og['geolocation_city'].apply(lambda x: re.sub(r'[^\\w\\s]', '', x))     # Remove special character like $, %\n",
    "og.loc[:,'geolocation_city'] = og['geolocation_city'].str.replace(' ','')                            # Remove spacing\n",
    "og.loc[:,'geolocation_city'] = og['geolocation_city'].str.lower()                                    # Lower Case all the data\n",
    "og.loc[:,'code'] = og['geolocation_city'] + og['geolocation_state']                                  # Cuz states may have similar city name, so i create a code include city name and state\n",
    "og['geolocation_city'].nunique()"
   ]
  },
  {
   "cell_type": "markdown",
   "id": "6bb9a11a-7daa-4c68-97fc-77cdf115c4b7",
   "metadata": {},
   "source": [
    "##### After some adjustment, he number of unique city reduce from over 8.001 to 5.901. What I need to do now is to \n",
    "##### - Find the standard version of these city name\n",
    "##### - Find the state name for each state code\n",
    "##### To have the city name, I've found a data of standard city name of Brazil on Kaggle. Cuz there are many state that have the same city name, so i create a column named 'code', which is the combination of city name and state. I also do so to the table on Kaggle, so that i can latter merge these 2 tables and get the right name for each code matched"
   ]
  },
  {
   "cell_type": "code",
   "execution_count": 32,
   "id": "3dc176ef-0745-40e5-8058-095c8db6d7e8",
   "metadata": {},
   "outputs": [
    {
     "data": {
      "text/html": [
       "<div>\n",
       "<style scoped>\n",
       "    .dataframe tbody tr th:only-of-type {\n",
       "        vertical-align: middle;\n",
       "    }\n",
       "\n",
       "    .dataframe tbody tr th {\n",
       "        vertical-align: top;\n",
       "    }\n",
       "\n",
       "    .dataframe thead th {\n",
       "        text-align: right;\n",
       "    }\n",
       "</style>\n",
       "<table border=\"1\" class=\"dataframe\">\n",
       "  <thead>\n",
       "    <tr style=\"text-align: right;\">\n",
       "      <th></th>\n",
       "      <th>CITY</th>\n",
       "      <th>STATE</th>\n",
       "      <th>city</th>\n",
       "      <th>code</th>\n",
       "    </tr>\n",
       "  </thead>\n",
       "  <tbody>\n",
       "    <tr>\n",
       "      <th>0</th>\n",
       "      <td>Abadia De Goiás</td>\n",
       "      <td>GO</td>\n",
       "      <td>abadiadegoias</td>\n",
       "      <td>abadiadegoiasGO</td>\n",
       "    </tr>\n",
       "    <tr>\n",
       "      <th>1</th>\n",
       "      <td>Abadia Dos Dourados</td>\n",
       "      <td>MG</td>\n",
       "      <td>abadiadosdourados</td>\n",
       "      <td>abadiadosdouradosMG</td>\n",
       "    </tr>\n",
       "    <tr>\n",
       "      <th>2</th>\n",
       "      <td>Abadiânia</td>\n",
       "      <td>GO</td>\n",
       "      <td>abadiania</td>\n",
       "      <td>abadianiaGO</td>\n",
       "    </tr>\n",
       "    <tr>\n",
       "      <th>3</th>\n",
       "      <td>Abaetetuba</td>\n",
       "      <td>PA</td>\n",
       "      <td>abaetetuba</td>\n",
       "      <td>abaetetubaPA</td>\n",
       "    </tr>\n",
       "    <tr>\n",
       "      <th>4</th>\n",
       "      <td>Abaeté</td>\n",
       "      <td>MG</td>\n",
       "      <td>abaete</td>\n",
       "      <td>abaeteMG</td>\n",
       "    </tr>\n",
       "  </tbody>\n",
       "</table>\n",
       "</div>"
      ],
      "text/plain": [
       "                  CITY STATE               city                 code\n",
       "0      Abadia De Goiás    GO      abadiadegoias      abadiadegoiasGO\n",
       "1  Abadia Dos Dourados    MG  abadiadosdourados  abadiadosdouradosMG\n",
       "2            Abadiânia    GO          abadiania          abadianiaGO\n",
       "3           Abaetetuba    PA         abaetetuba         abaetetubaPA\n",
       "4               Abaeté    MG             abaete             abaeteMG"
      ]
     },
     "execution_count": 32,
     "metadata": {},
     "output_type": "execute_result"
    }
   ],
   "source": [
    "br = pd.read_csv(\"BRAZIL_CITIES_REV2022.csv\")\n",
    "br = br.iloc[:, [0,1]]\n",
    "\n",
    "br['city'] = br['CITY'].apply(lambda x: unidecode(x))\n",
    "br['city'] = br['city'].apply(lambda x: re.sub(r'[^\\w\\s]', '', x))\n",
    "br['city'] = br['city'].str.replace(' ','')\n",
    "br['city'] = br['city'].str.lower()\n",
    "br = br.drop_duplicates()\n",
    "br['code'] = br['city'] + br['STATE']\n",
    "br.head()"
   ]
  },
  {
   "cell_type": "markdown",
   "id": "c02df2a1-a18a-4677-94a7-8ba2ac2de84a",
   "metadata": {},
   "source": [
    "##### After Having the right city name, I also found a table from wiki that contain state code and state name as well"
   ]
  },
  {
   "cell_type": "code",
   "execution_count": 33,
   "id": "4d73ee21-a2bf-4ace-8c37-f1c19b95d87c",
   "metadata": {},
   "outputs": [
    {
     "name": "stdout",
     "output_type": "stream",
     "text": [
      "Number of tables found: 4\n"
     ]
    },
    {
     "data": {
      "text/html": [
       "<div>\n",
       "<style scoped>\n",
       "    .dataframe tbody tr th:only-of-type {\n",
       "        vertical-align: middle;\n",
       "    }\n",
       "\n",
       "    .dataframe tbody tr th {\n",
       "        vertical-align: top;\n",
       "    }\n",
       "\n",
       "    .dataframe thead th {\n",
       "        text-align: right;\n",
       "    }\n",
       "</style>\n",
       "<table border=\"1\" class=\"dataframe\">\n",
       "  <thead>\n",
       "    <tr style=\"text-align: right;\">\n",
       "      <th></th>\n",
       "      <th>Code</th>\n",
       "      <th>Subdivision name (pt)</th>\n",
       "    </tr>\n",
       "  </thead>\n",
       "  <tbody>\n",
       "    <tr>\n",
       "      <th>0</th>\n",
       "      <td>AC</td>\n",
       "      <td>Acre</td>\n",
       "    </tr>\n",
       "    <tr>\n",
       "      <th>1</th>\n",
       "      <td>AL</td>\n",
       "      <td>Alagoas</td>\n",
       "    </tr>\n",
       "    <tr>\n",
       "      <th>2</th>\n",
       "      <td>AP</td>\n",
       "      <td>Amapá</td>\n",
       "    </tr>\n",
       "    <tr>\n",
       "      <th>3</th>\n",
       "      <td>AM</td>\n",
       "      <td>Amazonas</td>\n",
       "    </tr>\n",
       "    <tr>\n",
       "      <th>4</th>\n",
       "      <td>BA</td>\n",
       "      <td>Bahia</td>\n",
       "    </tr>\n",
       "  </tbody>\n",
       "</table>\n",
       "</div>"
      ],
      "text/plain": [
       "  Code Subdivision name (pt)\n",
       "0   AC                  Acre\n",
       "1   AL               Alagoas\n",
       "2   AP                 Amapá\n",
       "3   AM              Amazonas\n",
       "4   BA                 Bahia"
      ]
     },
     "execution_count": 33,
     "metadata": {},
     "output_type": "execute_result"
    }
   ],
   "source": [
    "url = \"https://en.wikipedia.org/wiki/ISO_3166-2:BR\" \n",
    "\n",
    "tables = pd.read_html(url)\n",
    "\n",
    "print(f\"Number of tables found: {len(tables)}\")\n",
    "state_code = tables[0] \n",
    "state_code = state_code.iloc[:, [0,1]]\n",
    "state_code.loc[:,'Code'] = state_code['Code'].str[-2:]\n",
    "state_code.head()"
   ]
  },
  {
   "cell_type": "code",
   "execution_count": 34,
   "id": "29d13d62-bf41-42b4-915b-e1e6445341ab",
   "metadata": {},
   "outputs": [
    {
     "data": {
      "text/html": [
       "<div>\n",
       "<style scoped>\n",
       "    .dataframe tbody tr th:only-of-type {\n",
       "        vertical-align: middle;\n",
       "    }\n",
       "\n",
       "    .dataframe tbody tr th {\n",
       "        vertical-align: top;\n",
       "    }\n",
       "\n",
       "    .dataframe thead th {\n",
       "        text-align: right;\n",
       "    }\n",
       "</style>\n",
       "<table border=\"1\" class=\"dataframe\">\n",
       "  <thead>\n",
       "    <tr style=\"text-align: right;\">\n",
       "      <th></th>\n",
       "      <th>geolocation_zip_code_prefix</th>\n",
       "      <th>geolocation_lat</th>\n",
       "      <th>geolocation_lng</th>\n",
       "      <th>geolocation_city</th>\n",
       "      <th>geolocation_state</th>\n",
       "      <th>code</th>\n",
       "      <th>CITY</th>\n",
       "    </tr>\n",
       "  </thead>\n",
       "  <tbody>\n",
       "    <tr>\n",
       "      <th>0</th>\n",
       "      <td>1037</td>\n",
       "      <td>-23.545621</td>\n",
       "      <td>-46.639292</td>\n",
       "      <td>saopaulo</td>\n",
       "      <td>SP</td>\n",
       "      <td>saopauloSP</td>\n",
       "      <td>São Paulo</td>\n",
       "    </tr>\n",
       "    <tr>\n",
       "      <th>1</th>\n",
       "      <td>1046</td>\n",
       "      <td>-23.546081</td>\n",
       "      <td>-46.644820</td>\n",
       "      <td>saopaulo</td>\n",
       "      <td>SP</td>\n",
       "      <td>saopauloSP</td>\n",
       "      <td>São Paulo</td>\n",
       "    </tr>\n",
       "    <tr>\n",
       "      <th>2</th>\n",
       "      <td>1046</td>\n",
       "      <td>-23.546129</td>\n",
       "      <td>-46.642951</td>\n",
       "      <td>saopaulo</td>\n",
       "      <td>SP</td>\n",
       "      <td>saopauloSP</td>\n",
       "      <td>São Paulo</td>\n",
       "    </tr>\n",
       "    <tr>\n",
       "      <th>3</th>\n",
       "      <td>1041</td>\n",
       "      <td>-23.544392</td>\n",
       "      <td>-46.639499</td>\n",
       "      <td>saopaulo</td>\n",
       "      <td>SP</td>\n",
       "      <td>saopauloSP</td>\n",
       "      <td>São Paulo</td>\n",
       "    </tr>\n",
       "    <tr>\n",
       "      <th>4</th>\n",
       "      <td>1035</td>\n",
       "      <td>-23.541578</td>\n",
       "      <td>-46.641607</td>\n",
       "      <td>saopaulo</td>\n",
       "      <td>SP</td>\n",
       "      <td>saopauloSP</td>\n",
       "      <td>São Paulo</td>\n",
       "    </tr>\n",
       "  </tbody>\n",
       "</table>\n",
       "</div>"
      ],
      "text/plain": [
       "   geolocation_zip_code_prefix  geolocation_lat  geolocation_lng  \\\n",
       "0                         1037       -23.545621       -46.639292   \n",
       "1                         1046       -23.546081       -46.644820   \n",
       "2                         1046       -23.546129       -46.642951   \n",
       "3                         1041       -23.544392       -46.639499   \n",
       "4                         1035       -23.541578       -46.641607   \n",
       "\n",
       "  geolocation_city geolocation_state        code       CITY  \n",
       "0         saopaulo                SP  saopauloSP  São Paulo  \n",
       "1         saopaulo                SP  saopauloSP  São Paulo  \n",
       "2         saopaulo                SP  saopauloSP  São Paulo  \n",
       "3         saopaulo                SP  saopauloSP  São Paulo  \n",
       "4         saopaulo                SP  saopauloSP  São Paulo  "
      ]
     },
     "execution_count": 34,
     "metadata": {},
     "output_type": "execute_result"
    }
   ],
   "source": [
    "og = pd.merge(og, br[['code','CITY']], on='code', how='left')\n",
    "og.head()"
   ]
  },
  {
   "cell_type": "code",
   "execution_count": 35,
   "id": "d9536578-172a-4033-9c50-c88fe9a93394",
   "metadata": {},
   "outputs": [
    {
     "data": {
      "text/plain": [
       "geolocation_zip_code_prefix       0\n",
       "geolocation_lat                   0\n",
       "geolocation_lng                   0\n",
       "geolocation_city                  0\n",
       "geolocation_state                 0\n",
       "code                              0\n",
       "CITY                           3999\n",
       "dtype: int64"
      ]
     },
     "execution_count": 35,
     "metadata": {},
     "output_type": "execute_result"
    }
   ],
   "source": [
    "og.isnull().sum()"
   ]
  },
  {
   "cell_type": "markdown",
   "id": "72d65b6b-8b9d-470c-8632-82932770b861",
   "metadata": {},
   "source": [
    "##### After merging, most of the data found their right city name. However, there are still 3.999 out of 738.332 haven't found their right name. Also mean only 0.541% of the data is not correct, but this number is too minor so I gonna handle it if I have free time"
   ]
  },
  {
   "cell_type": "code",
   "execution_count": 685,
   "id": "b7b48bb4-2e5f-40d9-bfe6-dad7eb3611ca",
   "metadata": {},
   "outputs": [
    {
     "data": {
      "text/html": [
       "<div>\n",
       "<style scoped>\n",
       "    .dataframe tbody tr th:only-of-type {\n",
       "        vertical-align: middle;\n",
       "    }\n",
       "\n",
       "    .dataframe tbody tr th {\n",
       "        vertical-align: top;\n",
       "    }\n",
       "\n",
       "    .dataframe thead th {\n",
       "        text-align: right;\n",
       "    }\n",
       "</style>\n",
       "<table border=\"1\" class=\"dataframe\">\n",
       "  <thead>\n",
       "    <tr style=\"text-align: right;\">\n",
       "      <th></th>\n",
       "      <th>code</th>\n",
       "      <th>count</th>\n",
       "    </tr>\n",
       "  </thead>\n",
       "  <tbody>\n",
       "    <tr>\n",
       "      <th>0</th>\n",
       "      <td>embuSP</td>\n",
       "      <td>285</td>\n",
       "    </tr>\n",
       "    <tr>\n",
       "      <th>1</th>\n",
       "      <td>paratiRJ</td>\n",
       "      <td>153</td>\n",
       "    </tr>\n",
       "    <tr>\n",
       "      <th>2</th>\n",
       "      <td>piumhiiMG</td>\n",
       "      <td>98</td>\n",
       "    </tr>\n",
       "    <tr>\n",
       "      <th>3</th>\n",
       "      <td>barradesaojoaoRJ</td>\n",
       "      <td>71</td>\n",
       "    </tr>\n",
       "    <tr>\n",
       "      <th>4</th>\n",
       "      <td>bonfimpaulistaSP</td>\n",
       "      <td>69</td>\n",
       "    </tr>\n",
       "    <tr>\n",
       "      <th>5</th>\n",
       "      <td>cachoeiradocampoMG</td>\n",
       "      <td>62</td>\n",
       "    </tr>\n",
       "    <tr>\n",
       "      <th>6</th>\n",
       "      <td>arraialdajudaBA</td>\n",
       "      <td>61</td>\n",
       "    </tr>\n",
       "    <tr>\n",
       "      <th>7</th>\n",
       "      <td>taguatingaDF</td>\n",
       "      <td>59</td>\n",
       "    </tr>\n",
       "    <tr>\n",
       "      <th>8</th>\n",
       "      <td>papucaiaRJ</td>\n",
       "      <td>53</td>\n",
       "    </tr>\n",
       "    <tr>\n",
       "      <th>9</th>\n",
       "      <td>bomjesusGO</td>\n",
       "      <td>53</td>\n",
       "    </tr>\n",
       "  </tbody>\n",
       "</table>\n",
       "</div>"
      ],
      "text/plain": [
       "                 code  count\n",
       "0              embuSP    285\n",
       "1            paratiRJ    153\n",
       "2           piumhiiMG     98\n",
       "3    barradesaojoaoRJ     71\n",
       "4    bonfimpaulistaSP     69\n",
       "5  cachoeiradocampoMG     62\n",
       "6     arraialdajudaBA     61\n",
       "7        taguatingaDF     59\n",
       "8          papucaiaRJ     53\n",
       "9          bomjesusGO     53"
      ]
     },
     "execution_count": 685,
     "metadata": {},
     "output_type": "execute_result"
    }
   ],
   "source": [
    "null = og[og['CITY'].isnull()]\n",
    "null['code'].value_counts().reset_index().head(10)"
   ]
  },
  {
   "cell_type": "code",
   "execution_count": 516,
   "id": "c29c9c17-c6e1-4b4f-82f0-f884821a5bad",
   "metadata": {},
   "outputs": [
    {
     "data": {
      "text/html": [
       "<div>\n",
       "<style scoped>\n",
       "    .dataframe tbody tr th:only-of-type {\n",
       "        vertical-align: middle;\n",
       "    }\n",
       "\n",
       "    .dataframe tbody tr th {\n",
       "        vertical-align: top;\n",
       "    }\n",
       "\n",
       "    .dataframe thead th {\n",
       "        text-align: right;\n",
       "    }\n",
       "</style>\n",
       "<table border=\"1\" class=\"dataframe\">\n",
       "  <thead>\n",
       "    <tr style=\"text-align: right;\">\n",
       "      <th></th>\n",
       "      <th>CITY</th>\n",
       "      <th>STATE</th>\n",
       "      <th>city</th>\n",
       "      <th>code</th>\n",
       "    </tr>\n",
       "  </thead>\n",
       "  <tbody>\n",
       "    <tr>\n",
       "      <th>524</th>\n",
       "      <td>Bataguassu</td>\n",
       "      <td>MS</td>\n",
       "      <td>bataguassu</td>\n",
       "      <td>bataguassuMS</td>\n",
       "    </tr>\n",
       "    <tr>\n",
       "      <th>1132</th>\n",
       "      <td>Cataguases</td>\n",
       "      <td>MG</td>\n",
       "      <td>cataguases</td>\n",
       "      <td>cataguasesMG</td>\n",
       "    </tr>\n",
       "    <tr>\n",
       "      <th>2271</th>\n",
       "      <td>Itaguajé</td>\n",
       "      <td>PR</td>\n",
       "      <td>itaguaje</td>\n",
       "      <td>itaguajePR</td>\n",
       "    </tr>\n",
       "    <tr>\n",
       "      <th>2272</th>\n",
       "      <td>Itaguara</td>\n",
       "      <td>MG</td>\n",
       "      <td>itaguara</td>\n",
       "      <td>itaguaraMG</td>\n",
       "    </tr>\n",
       "    <tr>\n",
       "      <th>2273</th>\n",
       "      <td>Itaguari</td>\n",
       "      <td>GO</td>\n",
       "      <td>itaguari</td>\n",
       "      <td>itaguariGO</td>\n",
       "    </tr>\n",
       "    <tr>\n",
       "      <th>2274</th>\n",
       "      <td>Itaguaru</td>\n",
       "      <td>GO</td>\n",
       "      <td>itaguaru</td>\n",
       "      <td>itaguaruGO</td>\n",
       "    </tr>\n",
       "    <tr>\n",
       "      <th>2275</th>\n",
       "      <td>Itaguatins</td>\n",
       "      <td>TO</td>\n",
       "      <td>itaguatins</td>\n",
       "      <td>itaguatinsTO</td>\n",
       "    </tr>\n",
       "    <tr>\n",
       "      <th>2276</th>\n",
       "      <td>Itaguaçu</td>\n",
       "      <td>ES</td>\n",
       "      <td>itaguacu</td>\n",
       "      <td>itaguacuES</td>\n",
       "    </tr>\n",
       "    <tr>\n",
       "      <th>2277</th>\n",
       "      <td>Itaguaçu Da Bahia</td>\n",
       "      <td>BA</td>\n",
       "      <td>itaguacudabahia</td>\n",
       "      <td>itaguacudabahiaBA</td>\n",
       "    </tr>\n",
       "    <tr>\n",
       "      <th>2278</th>\n",
       "      <td>Itaguaí</td>\n",
       "      <td>RJ</td>\n",
       "      <td>itaguai</td>\n",
       "      <td>itaguaiRJ</td>\n",
       "    </tr>\n",
       "    <tr>\n",
       "      <th>4469</th>\n",
       "      <td>Santana De Cataguases</td>\n",
       "      <td>MG</td>\n",
       "      <td>santanadecataguases</td>\n",
       "      <td>santanadecataguasesMG</td>\n",
       "    </tr>\n",
       "    <tr>\n",
       "      <th>5094</th>\n",
       "      <td>Taguatinga</td>\n",
       "      <td>TO</td>\n",
       "      <td>taguatinga</td>\n",
       "      <td>taguatingaTO</td>\n",
       "    </tr>\n",
       "    <tr>\n",
       "      <th>5095</th>\n",
       "      <td>Taguaí</td>\n",
       "      <td>SP</td>\n",
       "      <td>taguai</td>\n",
       "      <td>taguaiSP</td>\n",
       "    </tr>\n",
       "  </tbody>\n",
       "</table>\n",
       "</div>"
      ],
      "text/plain": [
       "                       CITY STATE                 city                   code\n",
       "524              Bataguassu    MS           bataguassu           bataguassuMS\n",
       "1132             Cataguases    MG           cataguases           cataguasesMG\n",
       "2271               Itaguajé    PR             itaguaje             itaguajePR\n",
       "2272               Itaguara    MG             itaguara             itaguaraMG\n",
       "2273               Itaguari    GO             itaguari             itaguariGO\n",
       "2274               Itaguaru    GO             itaguaru             itaguaruGO\n",
       "2275             Itaguatins    TO           itaguatins           itaguatinsTO\n",
       "2276               Itaguaçu    ES             itaguacu             itaguacuES\n",
       "2277      Itaguaçu Da Bahia    BA      itaguacudabahia      itaguacudabahiaBA\n",
       "2278                Itaguaí    RJ              itaguai              itaguaiRJ\n",
       "4469  Santana De Cataguases    MG  santanadecataguases  santanadecataguasesMG\n",
       "5094             Taguatinga    TO           taguatinga           taguatingaTO\n",
       "5095                 Taguaí    SP               taguai               taguaiSP"
      ]
     },
     "execution_count": 516,
     "metadata": {},
     "output_type": "execute_result"
    }
   ],
   "source": [
    "br[br['city'].str.contains('tagua')]"
   ]
  },
  {
   "cell_type": "code",
   "execution_count": null,
   "id": "8b929534-0d2c-4d58-b6ed-5bcadb1fcb5e",
   "metadata": {},
   "outputs": [],
   "source": [
    "for i, data in og['code'].items():\n",
    "    if data == 'embuSP':\n",
    "        og.loc[i, 'code'] = 'embudasartesSP'         # Embu is a short-hand version of embudasartes\n",
    "    if data == 'paratiRJ':\n",
    "        og.loc[i, 'code'] = 'paratyRJ'               # Just a mispelled\n",
    "    if data == 'piumhiiMG':\n",
    "        og.loc[i, 'code'] = 'piumhiMG'               # Just a mispelled\n",
    "    if data == 'barradesaojoaoRJ':\n",
    "        og.loc[i, 'code'] = 'saojoaodabarraRJ'       # It is written backwards\n",
    "    if data == 'bonfimpaulistaSP':\n",
    "        og.loc[i, 'code'] = 'ribeiraopretoSP'        # It a district of Ribeirão Preto\n",
    "    if data == 'cachoeiradocampoMG':\n",
    "        og.loc[i, 'code'] = 'ouropretoMG'            # It a district of Ouro Preto\n",
    "    if data == 'arraialdajudaBA':\n",
    "        og.loc[i, 'code'] = 'portoseguroBA'          # It a district of Porto Seguro\n",
    "         "
   ]
  },
  {
   "cell_type": "markdown",
   "id": "c6168c10-ed84-49ac-a26b-2e9070fc8cec",
   "metadata": {},
   "source": [
    "##### Now I just need to replace the messy city name and coded state with their right name"
   ]
  },
  {
   "cell_type": "code",
   "execution_count": 36,
   "id": "7f2aefd5-0ec6-4e73-88db-fb9916548606",
   "metadata": {},
   "outputs": [
    {
     "data": {
      "text/html": [
       "<div>\n",
       "<style scoped>\n",
       "    .dataframe tbody tr th:only-of-type {\n",
       "        vertical-align: middle;\n",
       "    }\n",
       "\n",
       "    .dataframe tbody tr th {\n",
       "        vertical-align: top;\n",
       "    }\n",
       "\n",
       "    .dataframe thead th {\n",
       "        text-align: right;\n",
       "    }\n",
       "</style>\n",
       "<table border=\"1\" class=\"dataframe\">\n",
       "  <thead>\n",
       "    <tr style=\"text-align: right;\">\n",
       "      <th></th>\n",
       "      <th>geolocation_zip_code_prefix</th>\n",
       "      <th>geolocation_lat</th>\n",
       "      <th>geolocation_lng</th>\n",
       "      <th>geolocation_city</th>\n",
       "      <th>geolocation_state</th>\n",
       "      <th>code</th>\n",
       "      <th>CITY</th>\n",
       "      <th>Code</th>\n",
       "      <th>Subdivision name (pt)</th>\n",
       "    </tr>\n",
       "  </thead>\n",
       "  <tbody>\n",
       "    <tr>\n",
       "      <th>0</th>\n",
       "      <td>1037</td>\n",
       "      <td>-23.545621</td>\n",
       "      <td>-46.639292</td>\n",
       "      <td>saopaulo</td>\n",
       "      <td>SP</td>\n",
       "      <td>saopauloSP</td>\n",
       "      <td>São Paulo</td>\n",
       "      <td>SP</td>\n",
       "      <td>São Paulo</td>\n",
       "    </tr>\n",
       "    <tr>\n",
       "      <th>1</th>\n",
       "      <td>1046</td>\n",
       "      <td>-23.546081</td>\n",
       "      <td>-46.644820</td>\n",
       "      <td>saopaulo</td>\n",
       "      <td>SP</td>\n",
       "      <td>saopauloSP</td>\n",
       "      <td>São Paulo</td>\n",
       "      <td>SP</td>\n",
       "      <td>São Paulo</td>\n",
       "    </tr>\n",
       "    <tr>\n",
       "      <th>2</th>\n",
       "      <td>1046</td>\n",
       "      <td>-23.546129</td>\n",
       "      <td>-46.642951</td>\n",
       "      <td>saopaulo</td>\n",
       "      <td>SP</td>\n",
       "      <td>saopauloSP</td>\n",
       "      <td>São Paulo</td>\n",
       "      <td>SP</td>\n",
       "      <td>São Paulo</td>\n",
       "    </tr>\n",
       "    <tr>\n",
       "      <th>3</th>\n",
       "      <td>1041</td>\n",
       "      <td>-23.544392</td>\n",
       "      <td>-46.639499</td>\n",
       "      <td>saopaulo</td>\n",
       "      <td>SP</td>\n",
       "      <td>saopauloSP</td>\n",
       "      <td>São Paulo</td>\n",
       "      <td>SP</td>\n",
       "      <td>São Paulo</td>\n",
       "    </tr>\n",
       "    <tr>\n",
       "      <th>4</th>\n",
       "      <td>1035</td>\n",
       "      <td>-23.541578</td>\n",
       "      <td>-46.641607</td>\n",
       "      <td>saopaulo</td>\n",
       "      <td>SP</td>\n",
       "      <td>saopauloSP</td>\n",
       "      <td>São Paulo</td>\n",
       "      <td>SP</td>\n",
       "      <td>São Paulo</td>\n",
       "    </tr>\n",
       "  </tbody>\n",
       "</table>\n",
       "</div>"
      ],
      "text/plain": [
       "   geolocation_zip_code_prefix  geolocation_lat  geolocation_lng  \\\n",
       "0                         1037       -23.545621       -46.639292   \n",
       "1                         1046       -23.546081       -46.644820   \n",
       "2                         1046       -23.546129       -46.642951   \n",
       "3                         1041       -23.544392       -46.639499   \n",
       "4                         1035       -23.541578       -46.641607   \n",
       "\n",
       "  geolocation_city geolocation_state        code       CITY Code  \\\n",
       "0         saopaulo                SP  saopauloSP  São Paulo   SP   \n",
       "1         saopaulo                SP  saopauloSP  São Paulo   SP   \n",
       "2         saopaulo                SP  saopauloSP  São Paulo   SP   \n",
       "3         saopaulo                SP  saopauloSP  São Paulo   SP   \n",
       "4         saopaulo                SP  saopauloSP  São Paulo   SP   \n",
       "\n",
       "  Subdivision name (pt)  \n",
       "0             São Paulo  \n",
       "1             São Paulo  \n",
       "2             São Paulo  \n",
       "3             São Paulo  \n",
       "4             São Paulo  "
      ]
     },
     "execution_count": 36,
     "metadata": {},
     "output_type": "execute_result"
    }
   ],
   "source": [
    "og = pd.merge(og, state_code, left_on='geolocation_state', right_on='Code', how='left')\n",
    "og.head()"
   ]
  },
  {
   "cell_type": "code",
   "execution_count": 37,
   "id": "32f5cb2e-04cf-4439-b892-da16939c675f",
   "metadata": {},
   "outputs": [
    {
     "data": {
      "text/html": [
       "<div>\n",
       "<style scoped>\n",
       "    .dataframe tbody tr th:only-of-type {\n",
       "        vertical-align: middle;\n",
       "    }\n",
       "\n",
       "    .dataframe tbody tr th {\n",
       "        vertical-align: top;\n",
       "    }\n",
       "\n",
       "    .dataframe thead th {\n",
       "        text-align: right;\n",
       "    }\n",
       "</style>\n",
       "<table border=\"1\" class=\"dataframe\">\n",
       "  <thead>\n",
       "    <tr style=\"text-align: right;\">\n",
       "      <th></th>\n",
       "      <th>geolocation_zip_code_prefix</th>\n",
       "      <th>geolocation_lat</th>\n",
       "      <th>geolocation_lng</th>\n",
       "      <th>city</th>\n",
       "      <th>state</th>\n",
       "    </tr>\n",
       "  </thead>\n",
       "  <tbody>\n",
       "    <tr>\n",
       "      <th>0</th>\n",
       "      <td>1037</td>\n",
       "      <td>-23.545621</td>\n",
       "      <td>-46.639292</td>\n",
       "      <td>São Paulo</td>\n",
       "      <td>São Paulo</td>\n",
       "    </tr>\n",
       "    <tr>\n",
       "      <th>1</th>\n",
       "      <td>1046</td>\n",
       "      <td>-23.546081</td>\n",
       "      <td>-46.644820</td>\n",
       "      <td>São Paulo</td>\n",
       "      <td>São Paulo</td>\n",
       "    </tr>\n",
       "    <tr>\n",
       "      <th>2</th>\n",
       "      <td>1046</td>\n",
       "      <td>-23.546129</td>\n",
       "      <td>-46.642951</td>\n",
       "      <td>São Paulo</td>\n",
       "      <td>São Paulo</td>\n",
       "    </tr>\n",
       "    <tr>\n",
       "      <th>3</th>\n",
       "      <td>1041</td>\n",
       "      <td>-23.544392</td>\n",
       "      <td>-46.639499</td>\n",
       "      <td>São Paulo</td>\n",
       "      <td>São Paulo</td>\n",
       "    </tr>\n",
       "    <tr>\n",
       "      <th>4</th>\n",
       "      <td>1035</td>\n",
       "      <td>-23.541578</td>\n",
       "      <td>-46.641607</td>\n",
       "      <td>São Paulo</td>\n",
       "      <td>São Paulo</td>\n",
       "    </tr>\n",
       "  </tbody>\n",
       "</table>\n",
       "</div>"
      ],
      "text/plain": [
       "   geolocation_zip_code_prefix  geolocation_lat  geolocation_lng       city  \\\n",
       "0                         1037       -23.545621       -46.639292  São Paulo   \n",
       "1                         1046       -23.546081       -46.644820  São Paulo   \n",
       "2                         1046       -23.546129       -46.642951  São Paulo   \n",
       "3                         1041       -23.544392       -46.639499  São Paulo   \n",
       "4                         1035       -23.541578       -46.641607  São Paulo   \n",
       "\n",
       "       state  \n",
       "0  São Paulo  \n",
       "1  São Paulo  \n",
       "2  São Paulo  \n",
       "3  São Paulo  \n",
       "4  São Paulo  "
      ]
     },
     "execution_count": 37,
     "metadata": {},
     "output_type": "execute_result"
    }
   ],
   "source": [
    "og = og.drop(['geolocation_city', 'geolocation_state', 'code', 'Code'], axis = 1)\n",
    "og = og.rename(columns = {'Subdivision name (pt)' : 'state','CITY' : 'city'})\n",
    "og.head()"
   ]
  },
  {
   "cell_type": "code",
   "execution_count": 38,
   "id": "f9a6cdb5-425a-4406-b309-75c6640463eb",
   "metadata": {},
   "outputs": [],
   "source": [
    "og['city'] = og['city'].fillna('Other')"
   ]
  },
  {
   "cell_type": "code",
   "execution_count": 39,
   "id": "685705d9-cad6-461b-a7fd-698607c12046",
   "metadata": {},
   "outputs": [
    {
     "name": "stdout",
     "output_type": "stream",
     "text": [
      "<class 'pandas.core.frame.DataFrame'>\n",
      "RangeIndex: 738332 entries, 0 to 738331\n",
      "Data columns (total 5 columns):\n",
      " #   Column                       Non-Null Count   Dtype  \n",
      "---  ------                       --------------   -----  \n",
      " 0   geolocation_zip_code_prefix  738332 non-null  int64  \n",
      " 1   geolocation_lat              738332 non-null  float64\n",
      " 2   geolocation_lng              738332 non-null  float64\n",
      " 3   city                         738332 non-null  object \n",
      " 4   state                        738332 non-null  object \n",
      "dtypes: float64(2), int64(1), object(2)\n",
      "memory usage: 28.2+ MB\n"
     ]
    }
   ],
   "source": [
    "og.info()"
   ]
  },
  {
   "cell_type": "markdown",
   "id": "d6204717-e518-48ab-bdec-4449a3539886",
   "metadata": {},
   "source": [
    "### 5.3. Convert all columns to suitable type"
   ]
  },
  {
   "cell_type": "code",
   "execution_count": 40,
   "id": "b3cf13cd-e256-4016-82f6-cad68bca23e8",
   "metadata": {},
   "outputs": [
    {
     "data": {
      "text/html": [
       "<div>\n",
       "<style scoped>\n",
       "    .dataframe tbody tr th:only-of-type {\n",
       "        vertical-align: middle;\n",
       "    }\n",
       "\n",
       "    .dataframe tbody tr th {\n",
       "        vertical-align: top;\n",
       "    }\n",
       "\n",
       "    .dataframe thead th {\n",
       "        text-align: right;\n",
       "    }\n",
       "</style>\n",
       "<table border=\"1\" class=\"dataframe\">\n",
       "  <thead>\n",
       "    <tr style=\"text-align: right;\">\n",
       "      <th></th>\n",
       "      <th>geolocation_zip_code_prefix</th>\n",
       "      <th>geolocation_lat</th>\n",
       "      <th>geolocation_lng</th>\n",
       "      <th>city</th>\n",
       "      <th>state</th>\n",
       "    </tr>\n",
       "  </thead>\n",
       "  <tbody>\n",
       "    <tr>\n",
       "      <th>737985</th>\n",
       "      <td>99965</td>\n",
       "      <td>-28.173892</td>\n",
       "      <td>-52.038447</td>\n",
       "      <td>Água Santa</td>\n",
       "      <td>Rio Grande do Sul</td>\n",
       "    </tr>\n",
       "    <tr>\n",
       "      <th>737986</th>\n",
       "      <td>99965</td>\n",
       "      <td>-28.178429</td>\n",
       "      <td>-52.035260</td>\n",
       "      <td>Água Santa</td>\n",
       "      <td>Rio Grande do Sul</td>\n",
       "    </tr>\n",
       "    <tr>\n",
       "      <th>738148</th>\n",
       "      <td>99965</td>\n",
       "      <td>-28.210845</td>\n",
       "      <td>-52.059927</td>\n",
       "      <td>Água Santa</td>\n",
       "      <td>Rio Grande do Sul</td>\n",
       "    </tr>\n",
       "    <tr>\n",
       "      <th>738163</th>\n",
       "      <td>99965</td>\n",
       "      <td>-28.181715</td>\n",
       "      <td>-52.035593</td>\n",
       "      <td>Água Santa</td>\n",
       "      <td>Rio Grande do Sul</td>\n",
       "    </tr>\n",
       "    <tr>\n",
       "      <th>738260</th>\n",
       "      <td>99965</td>\n",
       "      <td>-28.174697</td>\n",
       "      <td>-52.035508</td>\n",
       "      <td>Água Santa</td>\n",
       "      <td>Rio Grande do Sul</td>\n",
       "    </tr>\n",
       "    <tr>\n",
       "      <th>738327</th>\n",
       "      <td>99965</td>\n",
       "      <td>-28.180655</td>\n",
       "      <td>-52.034367</td>\n",
       "      <td>Água Santa</td>\n",
       "      <td>Rio Grande do Sul</td>\n",
       "    </tr>\n",
       "  </tbody>\n",
       "</table>\n",
       "</div>"
      ],
      "text/plain": [
       "        geolocation_zip_code_prefix  geolocation_lat  geolocation_lng  \\\n",
       "737985                        99965       -28.173892       -52.038447   \n",
       "737986                        99965       -28.178429       -52.035260   \n",
       "738148                        99965       -28.210845       -52.059927   \n",
       "738163                        99965       -28.181715       -52.035593   \n",
       "738260                        99965       -28.174697       -52.035508   \n",
       "738327                        99965       -28.180655       -52.034367   \n",
       "\n",
       "              city              state  \n",
       "737985  Água Santa  Rio Grande do Sul  \n",
       "737986  Água Santa  Rio Grande do Sul  \n",
       "738148  Água Santa  Rio Grande do Sul  \n",
       "738163  Água Santa  Rio Grande do Sul  \n",
       "738260  Água Santa  Rio Grande do Sul  \n",
       "738327  Água Santa  Rio Grande do Sul  "
      ]
     },
     "execution_count": 40,
     "metadata": {},
     "output_type": "execute_result"
    }
   ],
   "source": [
    "og[og['geolocation_zip_code_prefix'] == 99965]"
   ]
  },
  {
   "cell_type": "code",
   "execution_count": 41,
   "id": "d2a143c4-27b3-46dc-b2ba-4aa1d8ce6096",
   "metadata": {},
   "outputs": [
    {
     "data": {
      "text/plain": [
       "19015"
      ]
     },
     "execution_count": 41,
     "metadata": {},
     "output_type": "execute_result"
    }
   ],
   "source": [
    "og['geolocation_zip_code_prefix'].nunique()"
   ]
  },
  {
   "cell_type": "code",
   "execution_count": 42,
   "id": "1a4266c2-e13a-4597-9cf7-4cebc278d919",
   "metadata": {},
   "outputs": [
    {
     "data": {
      "text/plain": [
       "(19015, 5)"
      ]
     },
     "execution_count": 42,
     "metadata": {},
     "output_type": "execute_result"
    }
   ],
   "source": [
    "ogg = og.drop_duplicates(subset=['geolocation_zip_code_prefix'])\n",
    "ogg.shape"
   ]
  },
  {
   "cell_type": "code",
   "execution_count": 195,
   "id": "51840c3d-40df-41b5-8291-7acbecb3541f",
   "metadata": {},
   "outputs": [
    {
     "data": {
      "text/html": [
       "<div>\n",
       "<style scoped>\n",
       "    .dataframe tbody tr th:only-of-type {\n",
       "        vertical-align: middle;\n",
       "    }\n",
       "\n",
       "    .dataframe tbody tr th {\n",
       "        vertical-align: top;\n",
       "    }\n",
       "\n",
       "    .dataframe thead th {\n",
       "        text-align: right;\n",
       "    }\n",
       "</style>\n",
       "<table border=\"1\" class=\"dataframe\">\n",
       "  <thead>\n",
       "    <tr style=\"text-align: right;\">\n",
       "      <th></th>\n",
       "      <th>geolocation_zip_code_prefix</th>\n",
       "      <th>geolocation_lat</th>\n",
       "      <th>geolocation_lng</th>\n",
       "      <th>city</th>\n",
       "      <th>state</th>\n",
       "    </tr>\n",
       "  </thead>\n",
       "  <tbody>\n",
       "    <tr>\n",
       "      <th>0</th>\n",
       "      <td>1037</td>\n",
       "      <td>-23.545621</td>\n",
       "      <td>-46.639292</td>\n",
       "      <td>São Paulo</td>\n",
       "      <td>São Paulo</td>\n",
       "    </tr>\n",
       "    <tr>\n",
       "      <th>1</th>\n",
       "      <td>1046</td>\n",
       "      <td>-23.546081</td>\n",
       "      <td>-46.644820</td>\n",
       "      <td>São Paulo</td>\n",
       "      <td>São Paulo</td>\n",
       "    </tr>\n",
       "    <tr>\n",
       "      <th>3</th>\n",
       "      <td>1041</td>\n",
       "      <td>-23.544392</td>\n",
       "      <td>-46.639499</td>\n",
       "      <td>São Paulo</td>\n",
       "      <td>São Paulo</td>\n",
       "    </tr>\n",
       "    <tr>\n",
       "      <th>4</th>\n",
       "      <td>1035</td>\n",
       "      <td>-23.541578</td>\n",
       "      <td>-46.641607</td>\n",
       "      <td>São Paulo</td>\n",
       "      <td>São Paulo</td>\n",
       "    </tr>\n",
       "    <tr>\n",
       "      <th>5</th>\n",
       "      <td>1012</td>\n",
       "      <td>-23.547762</td>\n",
       "      <td>-46.635361</td>\n",
       "      <td>São Paulo</td>\n",
       "      <td>São Paulo</td>\n",
       "    </tr>\n",
       "  </tbody>\n",
       "</table>\n",
       "</div>"
      ],
      "text/plain": [
       "   geolocation_zip_code_prefix  geolocation_lat  geolocation_lng       city  \\\n",
       "0                         1037       -23.545621       -46.639292  São Paulo   \n",
       "1                         1046       -23.546081       -46.644820  São Paulo   \n",
       "3                         1041       -23.544392       -46.639499  São Paulo   \n",
       "4                         1035       -23.541578       -46.641607  São Paulo   \n",
       "5                         1012       -23.547762       -46.635361  São Paulo   \n",
       "\n",
       "       state  \n",
       "0  São Paulo  \n",
       "1  São Paulo  \n",
       "3  São Paulo  \n",
       "4  São Paulo  \n",
       "5  São Paulo  "
      ]
     },
     "execution_count": 195,
     "metadata": {},
     "output_type": "execute_result"
    }
   ],
   "source": [
    "ogg.head()"
   ]
  },
  {
   "cell_type": "markdown",
   "id": "628b66b5-9f61-4f57-92a3-1d428872540c",
   "metadata": {},
   "source": [
    "## 2.6. Customer Data"
   ]
  },
  {
   "cell_type": "code",
   "execution_count": 43,
   "id": "74d4aab0-c8b3-4685-8c7b-cd89894443ef",
   "metadata": {},
   "outputs": [
    {
     "data": {
      "text/html": [
       "<div>\n",
       "<style scoped>\n",
       "    .dataframe tbody tr th:only-of-type {\n",
       "        vertical-align: middle;\n",
       "    }\n",
       "\n",
       "    .dataframe tbody tr th {\n",
       "        vertical-align: top;\n",
       "    }\n",
       "\n",
       "    .dataframe thead th {\n",
       "        text-align: right;\n",
       "    }\n",
       "</style>\n",
       "<table border=\"1\" class=\"dataframe\">\n",
       "  <thead>\n",
       "    <tr style=\"text-align: right;\">\n",
       "      <th></th>\n",
       "      <th>customer_id</th>\n",
       "      <th>customer_unique_id</th>\n",
       "      <th>customer_zip_code_prefix</th>\n",
       "      <th>customer_city</th>\n",
       "      <th>customer_state</th>\n",
       "    </tr>\n",
       "  </thead>\n",
       "  <tbody>\n",
       "    <tr>\n",
       "      <th>0</th>\n",
       "      <td>06b8999e2fba1a1fbc88172c00ba8bc7</td>\n",
       "      <td>861eff4711a542e4b93843c6dd7febb0</td>\n",
       "      <td>14409</td>\n",
       "      <td>franca</td>\n",
       "      <td>SP</td>\n",
       "    </tr>\n",
       "    <tr>\n",
       "      <th>1</th>\n",
       "      <td>18955e83d337fd6b2def6b18a428ac77</td>\n",
       "      <td>290c77bc529b7ac935b93aa66c333dc3</td>\n",
       "      <td>9790</td>\n",
       "      <td>sao bernardo do campo</td>\n",
       "      <td>SP</td>\n",
       "    </tr>\n",
       "    <tr>\n",
       "      <th>2</th>\n",
       "      <td>4e7b3e00288586ebd08712fdd0374a03</td>\n",
       "      <td>060e732b5b29e8181a18229c7b0b2b5e</td>\n",
       "      <td>1151</td>\n",
       "      <td>sao paulo</td>\n",
       "      <td>SP</td>\n",
       "    </tr>\n",
       "    <tr>\n",
       "      <th>3</th>\n",
       "      <td>b2b6027bc5c5109e529d4dc6358b12c3</td>\n",
       "      <td>259dac757896d24d7702b9acbbff3f3c</td>\n",
       "      <td>8775</td>\n",
       "      <td>mogi das cruzes</td>\n",
       "      <td>SP</td>\n",
       "    </tr>\n",
       "    <tr>\n",
       "      <th>4</th>\n",
       "      <td>4f2d8ab171c80ec8364f7c12e35b23ad</td>\n",
       "      <td>345ecd01c38d18a9036ed96c73b8d066</td>\n",
       "      <td>13056</td>\n",
       "      <td>campinas</td>\n",
       "      <td>SP</td>\n",
       "    </tr>\n",
       "  </tbody>\n",
       "</table>\n",
       "</div>"
      ],
      "text/plain": [
       "                        customer_id                customer_unique_id  \\\n",
       "0  06b8999e2fba1a1fbc88172c00ba8bc7  861eff4711a542e4b93843c6dd7febb0   \n",
       "1  18955e83d337fd6b2def6b18a428ac77  290c77bc529b7ac935b93aa66c333dc3   \n",
       "2  4e7b3e00288586ebd08712fdd0374a03  060e732b5b29e8181a18229c7b0b2b5e   \n",
       "3  b2b6027bc5c5109e529d4dc6358b12c3  259dac757896d24d7702b9acbbff3f3c   \n",
       "4  4f2d8ab171c80ec8364f7c12e35b23ad  345ecd01c38d18a9036ed96c73b8d066   \n",
       "\n",
       "   customer_zip_code_prefix          customer_city customer_state  \n",
       "0                     14409                 franca             SP  \n",
       "1                      9790  sao bernardo do campo             SP  \n",
       "2                      1151              sao paulo             SP  \n",
       "3                      8775        mogi das cruzes             SP  \n",
       "4                     13056               campinas             SP  "
      ]
     },
     "execution_count": 43,
     "metadata": {},
     "output_type": "execute_result"
    }
   ],
   "source": [
    "oc.head()"
   ]
  },
  {
   "cell_type": "code",
   "execution_count": 44,
   "id": "f155a443-8ede-478c-8193-8af119d65cc0",
   "metadata": {},
   "outputs": [
    {
     "name": "stdout",
     "output_type": "stream",
     "text": [
      "<class 'pandas.core.frame.DataFrame'>\n",
      "RangeIndex: 99441 entries, 0 to 99440\n",
      "Data columns (total 5 columns):\n",
      " #   Column                    Non-Null Count  Dtype \n",
      "---  ------                    --------------  ----- \n",
      " 0   customer_id               99441 non-null  object\n",
      " 1   customer_unique_id        99441 non-null  object\n",
      " 2   customer_zip_code_prefix  99441 non-null  int64 \n",
      " 3   customer_city             99441 non-null  object\n",
      " 4   customer_state            99441 non-null  object\n",
      "dtypes: int64(1), object(4)\n",
      "memory usage: 3.8+ MB\n"
     ]
    }
   ],
   "source": [
    "oc.info()"
   ]
  },
  {
   "cell_type": "markdown",
   "id": "13f26cbe-83ff-4fd5-af51-c0c6628e368b",
   "metadata": {},
   "source": [
    "### 2.6.1. Check for Duplicated Value"
   ]
  },
  {
   "cell_type": "code",
   "execution_count": 45,
   "id": "e5424d46-deef-484a-9007-9b9afcbf07f2",
   "metadata": {},
   "outputs": [
    {
     "data": {
      "text/plain": [
       "0"
      ]
     },
     "execution_count": 45,
     "metadata": {},
     "output_type": "execute_result"
    }
   ],
   "source": [
    "oc.duplicated().sum()"
   ]
  },
  {
   "cell_type": "markdown",
   "id": "29b1319f-8ae1-48e6-8470-ff468138233a",
   "metadata": {},
   "source": [
    "### 2.6.2. Fix City and State"
   ]
  },
  {
   "cell_type": "markdown",
   "id": "c21debe0-74fc-4b2f-96b9-8b09e07a7de8",
   "metadata": {},
   "source": [
    "##### Cuz I already fix the City and State name before in og, so I just simply replace the data in this customer table based on the 'customer_zip_code_prefix'"
   ]
  },
  {
   "cell_type": "code",
   "execution_count": 46,
   "id": "c5bb92dc-405e-4fb7-8435-db3bdc80392f",
   "metadata": {},
   "outputs": [],
   "source": [
    "oc = pd.merge(oc, ogg[['city','state','geolocation_zip_code_prefix']], left_on='customer_zip_code_prefix', right_on='geolocation_zip_code_prefix', how='left')"
   ]
  },
  {
   "cell_type": "code",
   "execution_count": 47,
   "id": "018c2c08-d663-4fee-a6c1-faaf8c5efc56",
   "metadata": {},
   "outputs": [
    {
     "data": {
      "text/plain": [
       "customer_id                      0\n",
       "customer_unique_id               0\n",
       "customer_zip_code_prefix         0\n",
       "customer_city                    0\n",
       "customer_state                   0\n",
       "city                           278\n",
       "state                          278\n",
       "geolocation_zip_code_prefix    278\n",
       "dtype: int64"
      ]
     },
     "execution_count": 47,
     "metadata": {},
     "output_type": "execute_result"
    }
   ],
   "source": [
    "oc.isnull().sum()"
   ]
  },
  {
   "cell_type": "markdown",
   "id": "c63585d6-ddfb-45ac-9044-9e9f65fa428c",
   "metadata": {},
   "source": [
    "##### Once again, after merging, most of the data found their right city name. However, there are still 278 out of 99.441 haven't found their right name. Also mean only 0.279% of the data is not correct, but this number is too minor so I just simply fill those missing rows with 'Other'"
   ]
  },
  {
   "cell_type": "code",
   "execution_count": 48,
   "id": "5767d404-ad85-4c20-b590-414c5dfd6e65",
   "metadata": {},
   "outputs": [],
   "source": [
    "oc = oc.drop(['customer_city', 'customer_state', 'geolocation_zip_code_prefix'], axis = 1)\n",
    "oc['city'] = oc['city'].fillna('Other')\n",
    "oc['state'] = oc['state'].fillna('Other')"
   ]
  },
  {
   "cell_type": "markdown",
   "id": "47773116-93df-4014-9b79-2d5bd215ba44",
   "metadata": {},
   "source": [
    "## 2.7. Product Data"
   ]
  },
  {
   "cell_type": "code",
   "execution_count": 49,
   "id": "20c720d1-8f9f-4d43-b079-41c41b5d046b",
   "metadata": {},
   "outputs": [
    {
     "data": {
      "text/html": [
       "<div>\n",
       "<style scoped>\n",
       "    .dataframe tbody tr th:only-of-type {\n",
       "        vertical-align: middle;\n",
       "    }\n",
       "\n",
       "    .dataframe tbody tr th {\n",
       "        vertical-align: top;\n",
       "    }\n",
       "\n",
       "    .dataframe thead th {\n",
       "        text-align: right;\n",
       "    }\n",
       "</style>\n",
       "<table border=\"1\" class=\"dataframe\">\n",
       "  <thead>\n",
       "    <tr style=\"text-align: right;\">\n",
       "      <th></th>\n",
       "      <th>product_id</th>\n",
       "      <th>product_category_name</th>\n",
       "      <th>product_name_lenght</th>\n",
       "      <th>product_description_lenght</th>\n",
       "      <th>product_photos_qty</th>\n",
       "      <th>product_weight_g</th>\n",
       "      <th>product_length_cm</th>\n",
       "      <th>product_height_cm</th>\n",
       "      <th>product_width_cm</th>\n",
       "    </tr>\n",
       "  </thead>\n",
       "  <tbody>\n",
       "    <tr>\n",
       "      <th>0</th>\n",
       "      <td>1e9e8ef04dbcff4541ed26657ea517e5</td>\n",
       "      <td>perfumaria</td>\n",
       "      <td>40.0</td>\n",
       "      <td>287.0</td>\n",
       "      <td>1.0</td>\n",
       "      <td>225.0</td>\n",
       "      <td>16.0</td>\n",
       "      <td>10.0</td>\n",
       "      <td>14.0</td>\n",
       "    </tr>\n",
       "    <tr>\n",
       "      <th>1</th>\n",
       "      <td>3aa071139cb16b67ca9e5dea641aaa2f</td>\n",
       "      <td>artes</td>\n",
       "      <td>44.0</td>\n",
       "      <td>276.0</td>\n",
       "      <td>1.0</td>\n",
       "      <td>1000.0</td>\n",
       "      <td>30.0</td>\n",
       "      <td>18.0</td>\n",
       "      <td>20.0</td>\n",
       "    </tr>\n",
       "    <tr>\n",
       "      <th>2</th>\n",
       "      <td>96bd76ec8810374ed1b65e291975717f</td>\n",
       "      <td>esporte_lazer</td>\n",
       "      <td>46.0</td>\n",
       "      <td>250.0</td>\n",
       "      <td>1.0</td>\n",
       "      <td>154.0</td>\n",
       "      <td>18.0</td>\n",
       "      <td>9.0</td>\n",
       "      <td>15.0</td>\n",
       "    </tr>\n",
       "    <tr>\n",
       "      <th>3</th>\n",
       "      <td>cef67bcfe19066a932b7673e239eb23d</td>\n",
       "      <td>bebes</td>\n",
       "      <td>27.0</td>\n",
       "      <td>261.0</td>\n",
       "      <td>1.0</td>\n",
       "      <td>371.0</td>\n",
       "      <td>26.0</td>\n",
       "      <td>4.0</td>\n",
       "      <td>26.0</td>\n",
       "    </tr>\n",
       "    <tr>\n",
       "      <th>4</th>\n",
       "      <td>9dc1a7de274444849c219cff195d0b71</td>\n",
       "      <td>utilidades_domesticas</td>\n",
       "      <td>37.0</td>\n",
       "      <td>402.0</td>\n",
       "      <td>4.0</td>\n",
       "      <td>625.0</td>\n",
       "      <td>20.0</td>\n",
       "      <td>17.0</td>\n",
       "      <td>13.0</td>\n",
       "    </tr>\n",
       "  </tbody>\n",
       "</table>\n",
       "</div>"
      ],
      "text/plain": [
       "                         product_id  product_category_name  \\\n",
       "0  1e9e8ef04dbcff4541ed26657ea517e5             perfumaria   \n",
       "1  3aa071139cb16b67ca9e5dea641aaa2f                  artes   \n",
       "2  96bd76ec8810374ed1b65e291975717f          esporte_lazer   \n",
       "3  cef67bcfe19066a932b7673e239eb23d                  bebes   \n",
       "4  9dc1a7de274444849c219cff195d0b71  utilidades_domesticas   \n",
       "\n",
       "   product_name_lenght  product_description_lenght  product_photos_qty  \\\n",
       "0                 40.0                       287.0                 1.0   \n",
       "1                 44.0                       276.0                 1.0   \n",
       "2                 46.0                       250.0                 1.0   \n",
       "3                 27.0                       261.0                 1.0   \n",
       "4                 37.0                       402.0                 4.0   \n",
       "\n",
       "   product_weight_g  product_length_cm  product_height_cm  product_width_cm  \n",
       "0             225.0               16.0               10.0              14.0  \n",
       "1            1000.0               30.0               18.0              20.0  \n",
       "2             154.0               18.0                9.0              15.0  \n",
       "3             371.0               26.0                4.0              26.0  \n",
       "4             625.0               20.0               17.0              13.0  "
      ]
     },
     "execution_count": 49,
     "metadata": {},
     "output_type": "execute_result"
    }
   ],
   "source": [
    "op.head()"
   ]
  },
  {
   "cell_type": "code",
   "execution_count": 50,
   "id": "c2d4d2c0-a01f-49b7-9d56-284cc53db2b4",
   "metadata": {},
   "outputs": [
    {
     "name": "stdout",
     "output_type": "stream",
     "text": [
      "<class 'pandas.core.frame.DataFrame'>\n",
      "RangeIndex: 32951 entries, 0 to 32950\n",
      "Data columns (total 9 columns):\n",
      " #   Column                      Non-Null Count  Dtype  \n",
      "---  ------                      --------------  -----  \n",
      " 0   product_id                  32951 non-null  object \n",
      " 1   product_category_name       32341 non-null  object \n",
      " 2   product_name_lenght         32341 non-null  float64\n",
      " 3   product_description_lenght  32341 non-null  float64\n",
      " 4   product_photos_qty          32341 non-null  float64\n",
      " 5   product_weight_g            32949 non-null  float64\n",
      " 6   product_length_cm           32949 non-null  float64\n",
      " 7   product_height_cm           32949 non-null  float64\n",
      " 8   product_width_cm            32949 non-null  float64\n",
      "dtypes: float64(7), object(2)\n",
      "memory usage: 2.3+ MB\n"
     ]
    }
   ],
   "source": [
    "op.info()"
   ]
  },
  {
   "cell_type": "markdown",
   "id": "7b2347a3-5c23-4051-aa00-36aae3f678d5",
   "metadata": {},
   "source": [
    "## 2.7.1. Check for Null Value"
   ]
  },
  {
   "cell_type": "code",
   "execution_count": 51,
   "id": "250d0bfe-88ec-447e-858e-485f1de3f711",
   "metadata": {},
   "outputs": [
    {
     "data": {
      "text/plain": [
       "product_id                      0\n",
       "product_category_name         610\n",
       "product_name_lenght           610\n",
       "product_description_lenght    610\n",
       "product_photos_qty            610\n",
       "product_weight_g                2\n",
       "product_length_cm               2\n",
       "product_height_cm               2\n",
       "product_width_cm                2\n",
       "dtype: int64"
      ]
     },
     "execution_count": 51,
     "metadata": {},
     "output_type": "execute_result"
    }
   ],
   "source": [
    "op.isnull().sum()"
   ]
  },
  {
   "cell_type": "code",
   "execution_count": 52,
   "id": "8b438727-15c3-4d2b-96d0-4c55aef23048",
   "metadata": {},
   "outputs": [
    {
     "data": {
      "text/html": [
       "<div>\n",
       "<style scoped>\n",
       "    .dataframe tbody tr th:only-of-type {\n",
       "        vertical-align: middle;\n",
       "    }\n",
       "\n",
       "    .dataframe tbody tr th {\n",
       "        vertical-align: top;\n",
       "    }\n",
       "\n",
       "    .dataframe thead th {\n",
       "        text-align: right;\n",
       "    }\n",
       "</style>\n",
       "<table border=\"1\" class=\"dataframe\">\n",
       "  <thead>\n",
       "    <tr style=\"text-align: right;\">\n",
       "      <th></th>\n",
       "      <th>product_id</th>\n",
       "      <th>product_category_name</th>\n",
       "      <th>product_name_lenght</th>\n",
       "      <th>product_description_lenght</th>\n",
       "      <th>product_photos_qty</th>\n",
       "      <th>product_weight_g</th>\n",
       "      <th>product_length_cm</th>\n",
       "      <th>product_height_cm</th>\n",
       "      <th>product_width_cm</th>\n",
       "    </tr>\n",
       "  </thead>\n",
       "  <tbody>\n",
       "    <tr>\n",
       "      <th>105</th>\n",
       "      <td>a41e356c76fab66334f36de622ecbd3a</td>\n",
       "      <td>NaN</td>\n",
       "      <td>NaN</td>\n",
       "      <td>NaN</td>\n",
       "      <td>NaN</td>\n",
       "      <td>650.0</td>\n",
       "      <td>17.0</td>\n",
       "      <td>14.0</td>\n",
       "      <td>12.0</td>\n",
       "    </tr>\n",
       "    <tr>\n",
       "      <th>128</th>\n",
       "      <td>d8dee61c2034d6d075997acef1870e9b</td>\n",
       "      <td>NaN</td>\n",
       "      <td>NaN</td>\n",
       "      <td>NaN</td>\n",
       "      <td>NaN</td>\n",
       "      <td>300.0</td>\n",
       "      <td>16.0</td>\n",
       "      <td>7.0</td>\n",
       "      <td>20.0</td>\n",
       "    </tr>\n",
       "    <tr>\n",
       "      <th>145</th>\n",
       "      <td>56139431d72cd51f19eb9f7dae4d1617</td>\n",
       "      <td>NaN</td>\n",
       "      <td>NaN</td>\n",
       "      <td>NaN</td>\n",
       "      <td>NaN</td>\n",
       "      <td>200.0</td>\n",
       "      <td>20.0</td>\n",
       "      <td>20.0</td>\n",
       "      <td>20.0</td>\n",
       "    </tr>\n",
       "    <tr>\n",
       "      <th>154</th>\n",
       "      <td>46b48281eb6d663ced748f324108c733</td>\n",
       "      <td>NaN</td>\n",
       "      <td>NaN</td>\n",
       "      <td>NaN</td>\n",
       "      <td>NaN</td>\n",
       "      <td>18500.0</td>\n",
       "      <td>41.0</td>\n",
       "      <td>30.0</td>\n",
       "      <td>41.0</td>\n",
       "    </tr>\n",
       "    <tr>\n",
       "      <th>197</th>\n",
       "      <td>5fb61f482620cb672f5e586bb132eae9</td>\n",
       "      <td>NaN</td>\n",
       "      <td>NaN</td>\n",
       "      <td>NaN</td>\n",
       "      <td>NaN</td>\n",
       "      <td>300.0</td>\n",
       "      <td>35.0</td>\n",
       "      <td>7.0</td>\n",
       "      <td>12.0</td>\n",
       "    </tr>\n",
       "  </tbody>\n",
       "</table>\n",
       "</div>"
      ],
      "text/plain": [
       "                           product_id product_category_name  \\\n",
       "105  a41e356c76fab66334f36de622ecbd3a                   NaN   \n",
       "128  d8dee61c2034d6d075997acef1870e9b                   NaN   \n",
       "145  56139431d72cd51f19eb9f7dae4d1617                   NaN   \n",
       "154  46b48281eb6d663ced748f324108c733                   NaN   \n",
       "197  5fb61f482620cb672f5e586bb132eae9                   NaN   \n",
       "\n",
       "     product_name_lenght  product_description_lenght  product_photos_qty  \\\n",
       "105                  NaN                         NaN                 NaN   \n",
       "128                  NaN                         NaN                 NaN   \n",
       "145                  NaN                         NaN                 NaN   \n",
       "154                  NaN                         NaN                 NaN   \n",
       "197                  NaN                         NaN                 NaN   \n",
       "\n",
       "     product_weight_g  product_length_cm  product_height_cm  product_width_cm  \n",
       "105             650.0               17.0               14.0              12.0  \n",
       "128             300.0               16.0                7.0              20.0  \n",
       "145             200.0               20.0               20.0              20.0  \n",
       "154           18500.0               41.0               30.0              41.0  \n",
       "197             300.0               35.0                7.0              12.0  "
      ]
     },
     "execution_count": 52,
     "metadata": {},
     "output_type": "execute_result"
    }
   ],
   "source": [
    "op[op['product_category_name'].isnull()].head()"
   ]
  },
  {
   "cell_type": "code",
   "execution_count": 53,
   "id": "9fa01816-707f-4ae9-9af3-f3d926d6f7f5",
   "metadata": {},
   "outputs": [],
   "source": [
    "op['product_category_name'] = op['product_category_name'].fillna('Not Given')\n",
    "op['product_name_lenght'] = op['product_name_lenght'].fillna('Not Given')\n",
    "op['product_description_lenght'] = op['product_description_lenght'].fillna('Not Given')\n",
    "op['product_photos_qty'] = op['product_photos_qty'].fillna('Not Given')\n",
    "op = op.dropna()"
   ]
  },
  {
   "cell_type": "markdown",
   "id": "86babc64-ad5a-4979-a876-6c92d28a5084",
   "metadata": {},
   "source": [
    "## 2.7.2. Check for Duplicated Value"
   ]
  },
  {
   "cell_type": "code",
   "execution_count": 54,
   "id": "061c7477-de66-4751-a8a3-b510e38f83a7",
   "metadata": {},
   "outputs": [
    {
     "data": {
      "text/plain": [
       "0"
      ]
     },
     "execution_count": 54,
     "metadata": {},
     "output_type": "execute_result"
    }
   ],
   "source": [
    "op.duplicated().sum()"
   ]
  },
  {
   "cell_type": "code",
   "execution_count": 55,
   "id": "d2cf043f-d8da-40e3-9804-6dc8aaffb93d",
   "metadata": {},
   "outputs": [
    {
     "name": "stdout",
     "output_type": "stream",
     "text": [
      "<class 'pandas.core.frame.DataFrame'>\n",
      "Index: 32949 entries, 0 to 32950\n",
      "Data columns (total 9 columns):\n",
      " #   Column                      Non-Null Count  Dtype  \n",
      "---  ------                      --------------  -----  \n",
      " 0   product_id                  32949 non-null  object \n",
      " 1   product_category_name       32949 non-null  object \n",
      " 2   product_name_lenght         32949 non-null  object \n",
      " 3   product_description_lenght  32949 non-null  object \n",
      " 4   product_photos_qty          32949 non-null  object \n",
      " 5   product_weight_g            32949 non-null  float64\n",
      " 6   product_length_cm           32949 non-null  float64\n",
      " 7   product_height_cm           32949 non-null  float64\n",
      " 8   product_width_cm            32949 non-null  float64\n",
      "dtypes: float64(4), object(5)\n",
      "memory usage: 2.5+ MB\n"
     ]
    }
   ],
   "source": [
    "op.info()"
   ]
  },
  {
   "cell_type": "markdown",
   "id": "4e818a4a-e55d-4bb0-a4d7-2d424181dc3d",
   "metadata": {},
   "source": [
    "## 2.7.3. Turn product categoty name to english"
   ]
  },
  {
   "cell_type": "code",
   "execution_count": 56,
   "id": "b873b364-ab66-4018-aa78-d83782394b5f",
   "metadata": {},
   "outputs": [
    {
     "name": "stdout",
     "output_type": "stream",
     "text": [
      "<class 'pandas.core.frame.DataFrame'>\n",
      "RangeIndex: 32949 entries, 0 to 32948\n",
      "Data columns (total 10 columns):\n",
      " #   Column                         Non-Null Count  Dtype  \n",
      "---  ------                         --------------  -----  \n",
      " 0   product_id                     32949 non-null  object \n",
      " 1   product_category_name          32949 non-null  object \n",
      " 2   product_name_lenght            32949 non-null  object \n",
      " 3   product_description_lenght     32949 non-null  object \n",
      " 4   product_photos_qty             32949 non-null  object \n",
      " 5   product_weight_g               32949 non-null  float64\n",
      " 6   product_length_cm              32949 non-null  float64\n",
      " 7   product_height_cm              32949 non-null  float64\n",
      " 8   product_width_cm               32949 non-null  float64\n",
      " 9   product_category_name_english  32327 non-null  object \n",
      "dtypes: float64(4), object(6)\n",
      "memory usage: 2.5+ MB\n"
     ]
    }
   ],
   "source": [
    "op = op.merge(trans, on='product_category_name', how='outer')\n",
    "op.info()"
   ]
  },
  {
   "cell_type": "code",
   "execution_count": 57,
   "id": "d1b8e949-2173-415d-9a61-204d1cd5d9cf",
   "metadata": {},
   "outputs": [
    {
     "name": "stdout",
     "output_type": "stream",
     "text": [
      "<class 'pandas.core.frame.DataFrame'>\n",
      "RangeIndex: 32949 entries, 0 to 32948\n",
      "Data columns (total 9 columns):\n",
      " #   Column                         Non-Null Count  Dtype  \n",
      "---  ------                         --------------  -----  \n",
      " 0   product_id                     32949 non-null  object \n",
      " 1   product_name_lenght            32949 non-null  object \n",
      " 2   product_description_lenght     32949 non-null  object \n",
      " 3   product_photos_qty             32949 non-null  object \n",
      " 4   product_weight_g               32949 non-null  float64\n",
      " 5   product_length_cm              32949 non-null  float64\n",
      " 6   product_height_cm              32949 non-null  float64\n",
      " 7   product_width_cm               32949 non-null  float64\n",
      " 8   product_category_name_english  32949 non-null  object \n",
      "dtypes: float64(4), object(5)\n",
      "memory usage: 2.3+ MB\n"
     ]
    }
   ],
   "source": [
    "op['product_category_name_english'] = op['product_category_name_english'].fillna(op['product_category_name'])\n",
    "op = op.drop('product_category_name', axis=1)\n",
    "\n",
    "op['product_category_name_english'] = op['product_category_name_english'].str.replace('_', ' ')\n",
    "op['product_category_name_english'] = op['product_category_name_english'].str.title()\n",
    "op.info()"
   ]
  },
  {
   "cell_type": "markdown",
   "id": "42cc41cf-e05b-4789-a905-ddd609f62f75",
   "metadata": {},
   "source": [
    "## 2.8. Seller Data"
   ]
  },
  {
   "cell_type": "code",
   "execution_count": 58,
   "id": "ffdc120a-6f47-474e-beec-c91cf96ba9cc",
   "metadata": {},
   "outputs": [
    {
     "data": {
      "text/html": [
       "<div>\n",
       "<style scoped>\n",
       "    .dataframe tbody tr th:only-of-type {\n",
       "        vertical-align: middle;\n",
       "    }\n",
       "\n",
       "    .dataframe tbody tr th {\n",
       "        vertical-align: top;\n",
       "    }\n",
       "\n",
       "    .dataframe thead th {\n",
       "        text-align: right;\n",
       "    }\n",
       "</style>\n",
       "<table border=\"1\" class=\"dataframe\">\n",
       "  <thead>\n",
       "    <tr style=\"text-align: right;\">\n",
       "      <th></th>\n",
       "      <th>seller_id</th>\n",
       "      <th>seller_zip_code_prefix</th>\n",
       "      <th>seller_city</th>\n",
       "      <th>seller_state</th>\n",
       "    </tr>\n",
       "  </thead>\n",
       "  <tbody>\n",
       "    <tr>\n",
       "      <th>0</th>\n",
       "      <td>3442f8959a84dea7ee197c632cb2df15</td>\n",
       "      <td>13023</td>\n",
       "      <td>campinas</td>\n",
       "      <td>SP</td>\n",
       "    </tr>\n",
       "    <tr>\n",
       "      <th>1</th>\n",
       "      <td>d1b65fc7debc3361ea86b5f14c68d2e2</td>\n",
       "      <td>13844</td>\n",
       "      <td>mogi guacu</td>\n",
       "      <td>SP</td>\n",
       "    </tr>\n",
       "    <tr>\n",
       "      <th>2</th>\n",
       "      <td>ce3ad9de960102d0677a81f5d0bb7b2d</td>\n",
       "      <td>20031</td>\n",
       "      <td>rio de janeiro</td>\n",
       "      <td>RJ</td>\n",
       "    </tr>\n",
       "    <tr>\n",
       "      <th>3</th>\n",
       "      <td>c0f3eea2e14555b6faeea3dd58c1b1c3</td>\n",
       "      <td>4195</td>\n",
       "      <td>sao paulo</td>\n",
       "      <td>SP</td>\n",
       "    </tr>\n",
       "    <tr>\n",
       "      <th>4</th>\n",
       "      <td>51a04a8a6bdcb23deccc82b0b80742cf</td>\n",
       "      <td>12914</td>\n",
       "      <td>braganca paulista</td>\n",
       "      <td>SP</td>\n",
       "    </tr>\n",
       "  </tbody>\n",
       "</table>\n",
       "</div>"
      ],
      "text/plain": [
       "                          seller_id  seller_zip_code_prefix  \\\n",
       "0  3442f8959a84dea7ee197c632cb2df15                   13023   \n",
       "1  d1b65fc7debc3361ea86b5f14c68d2e2                   13844   \n",
       "2  ce3ad9de960102d0677a81f5d0bb7b2d                   20031   \n",
       "3  c0f3eea2e14555b6faeea3dd58c1b1c3                    4195   \n",
       "4  51a04a8a6bdcb23deccc82b0b80742cf                   12914   \n",
       "\n",
       "         seller_city seller_state  \n",
       "0           campinas           SP  \n",
       "1         mogi guacu           SP  \n",
       "2     rio de janeiro           RJ  \n",
       "3          sao paulo           SP  \n",
       "4  braganca paulista           SP  "
      ]
     },
     "execution_count": 58,
     "metadata": {},
     "output_type": "execute_result"
    }
   ],
   "source": [
    "os.head()"
   ]
  },
  {
   "cell_type": "code",
   "execution_count": 59,
   "id": "8746a845-cc0b-4e62-8c6c-f75574048bcb",
   "metadata": {},
   "outputs": [
    {
     "name": "stdout",
     "output_type": "stream",
     "text": [
      "<class 'pandas.core.frame.DataFrame'>\n",
      "RangeIndex: 3095 entries, 0 to 3094\n",
      "Data columns (total 4 columns):\n",
      " #   Column                  Non-Null Count  Dtype \n",
      "---  ------                  --------------  ----- \n",
      " 0   seller_id               3095 non-null   object\n",
      " 1   seller_zip_code_prefix  3095 non-null   int64 \n",
      " 2   seller_city             3095 non-null   object\n",
      " 3   seller_state            3095 non-null   object\n",
      "dtypes: int64(1), object(3)\n",
      "memory usage: 96.8+ KB\n"
     ]
    }
   ],
   "source": [
    "os.info()"
   ]
  },
  {
   "cell_type": "markdown",
   "id": "5d354378-76fb-4cc4-8f78-3b949cd77af0",
   "metadata": {},
   "source": [
    "## 2.8.1. Check for Duplicated Value"
   ]
  },
  {
   "cell_type": "code",
   "execution_count": 60,
   "id": "2435d98d-3937-40ab-84cf-48bc0fe3cce8",
   "metadata": {},
   "outputs": [
    {
     "data": {
      "text/plain": [
       "0"
      ]
     },
     "execution_count": 60,
     "metadata": {},
     "output_type": "execute_result"
    }
   ],
   "source": [
    "os.duplicated().sum()"
   ]
  },
  {
   "cell_type": "markdown",
   "id": "94796909-d044-499d-8b7f-5d82e4cbccda",
   "metadata": {},
   "source": [
    "## 2.8.2. Fix City and State"
   ]
  },
  {
   "cell_type": "code",
   "execution_count": 61,
   "id": "14b82946-6f72-4c23-b0dd-530f8eb02784",
   "metadata": {},
   "outputs": [],
   "source": [
    "os = pd.merge(os, ogg[['city','state','geolocation_zip_code_prefix']], left_on='seller_zip_code_prefix', right_on='geolocation_zip_code_prefix', how='left')"
   ]
  },
  {
   "cell_type": "code",
   "execution_count": 62,
   "id": "b079d828-558c-4822-90bc-7f7e6716f556",
   "metadata": {},
   "outputs": [
    {
     "data": {
      "text/plain": [
       "seller_id                      0\n",
       "seller_zip_code_prefix         0\n",
       "seller_city                    0\n",
       "seller_state                   0\n",
       "city                           7\n",
       "state                          7\n",
       "geolocation_zip_code_prefix    7\n",
       "dtype: int64"
      ]
     },
     "execution_count": 62,
     "metadata": {},
     "output_type": "execute_result"
    }
   ],
   "source": [
    "os.isnull().sum()"
   ]
  },
  {
   "cell_type": "code",
   "execution_count": 63,
   "id": "87c3975b-f10a-4430-93fd-505874c7b01e",
   "metadata": {},
   "outputs": [],
   "source": [
    "os = os.drop(['seller_city', 'seller_state', 'geolocation_zip_code_prefix'], axis = 1)\n",
    "os['city'] = os['city'].fillna('Other')\n",
    "os['state'] = os['state'].fillna('Other')"
   ]
  },
  {
   "cell_type": "markdown",
   "id": "fa3fd760-d6c5-4fd4-b343-bdde224a4485",
   "metadata": {},
   "source": [
    "## 2.9. Save for later use in Power BI"
   ]
  },
  {
   "cell_type": "code",
   "execution_count": 64,
   "id": "c03d20eb-841d-404f-8a1c-750294838390",
   "metadata": {},
   "outputs": [],
   "source": [
    "oo.to_csv('D:\\Porfolio\\Project 2 - E-Commerce - Olist\\Cleaned Data\\Orders.csv', index=False)\n",
    "ooi.to_csv('D:\\Porfolio\\Project 2 - E-Commerce - Olist\\Cleaned Data\\Order Item.csv', index=False)\n",
    "oop.to_csv('D:\\Porfolio\\Project 2 - E-Commerce - Olist\\Cleaned Data\\Order Payment.csv', index=False)\n",
    "oor.to_csv('D:\\Porfolio\\Project 2 - E-Commerce - Olist\\Cleaned Data\\Order Review.csv', index=False)\n",
    "oc.to_csv('D:\\Porfolio\\Project 2 - E-Commerce - Olist\\Cleaned Data\\Customer.csv', index=False)\n",
    "og.to_csv('D:\\Porfolio\\Project 2 - E-Commerce - Olist\\Cleaned Data\\Geolocation.csv', index=False)\n",
    "op.to_csv('D:\\Porfolio\\Project 2 - E-Commerce - Olist\\Cleaned Data\\Product.csv', index=False)\n",
    "os.to_csv('D:\\Porfolio\\Project 2 - E-Commerce - Olist\\Cleaned Data\\Seller.csv', index=False)"
   ]
  },
  {
   "cell_type": "code",
   "execution_count": 186,
   "id": "01a12cc1-a2fd-422b-a221-3895dbbbcc63",
   "metadata": {},
   "outputs": [],
   "source": [
    "oo_oop = pd.merge(oo, oop, on='order_id', how='left')\n",
    "\n",
    "ooi_op = pd.merge(ooi, op, on='product_id', how='left')\n",
    "oo_ooi_op = pd.merge(oo, ooi_op, on='order_id', how='left')\n",
    "\n",
    "oo_oc = pd.merge(oo, oc, on='customer_id', how='left')\n",
    "oo_oc_oop = pd.merge(oo_oc, oop, on='order_id', how='left')\n",
    "oo_oc_ogg = pd.merge(oo_oc, ogg, left_on='customer_zip_code_prefix', right_on='geolocation_zip_code_prefix', how='left')\n",
    "\n",
    "op_ooi = pd.merge(op, ooi, on='product_id', how='left')\n",
    "op_ooi_os = pd.merge(op_ooi, os, on='seller_id', how='left')\n",
    "op_ooi_oor = pd.merge(op_ooi, oor, on='order_id', how='left')\n",
    "\n"
   ]
  },
  {
   "cell_type": "markdown",
   "id": "39f5e626-bfe3-4adb-93b5-8ccf8484f169",
   "metadata": {},
   "source": [
    "# 3. Overview Analyse"
   ]
  },
  {
   "cell_type": "code",
   "execution_count": null,
   "id": "cf08ce1d-3c34-4b45-bd24-d8490cd92e3c",
   "metadata": {},
   "outputs": [],
   "source": [
    "##### What are the States with highest Revenue\n",
    "##### What are the States with highest Number of Order\n",
    "##### What are the Cities with highest Revenue\n",
    "##### Which City has most Seller\n",
    "\n",
    "##### What is the Most-ordered Category\n",
    "##### What is the Category with Highest Review Score\n",
    "\n",
    "##### What is the most use Payment Method"
   ]
  },
  {
   "cell_type": "markdown",
   "id": "88619b2f-0e86-4d33-8334-b834defee88c",
   "metadata": {},
   "source": [
    "## 3.1. KPIs"
   ]
  },
  {
   "cell_type": "markdown",
   "id": "b2ced35e-1cec-45f7-8772-2423c09165e8",
   "metadata": {},
   "source": [
    "### 3.1.1 Total Order"
   ]
  },
  {
   "cell_type": "code",
   "execution_count": 66,
   "id": "66450ccb-1cbf-47ed-8fe8-60d849e2830a",
   "metadata": {},
   "outputs": [
    {
     "data": {
      "text/plain": [
       "99441"
      ]
     },
     "execution_count": 66,
     "metadata": {},
     "output_type": "execute_result"
    }
   ],
   "source": [
    "total_order = oo['order_id'].count()\n",
    "total_order"
   ]
  },
  {
   "cell_type": "markdown",
   "id": "9719a0e2-f3dd-49c9-9f4c-fb3a248aa067",
   "metadata": {},
   "source": [
    "### 3.1.2. Unique Customer"
   ]
  },
  {
   "cell_type": "code",
   "execution_count": 67,
   "id": "95ebb48f-5747-4fee-8cb4-228825e998d4",
   "metadata": {},
   "outputs": [
    {
     "data": {
      "text/plain": [
       "99441"
      ]
     },
     "execution_count": 67,
     "metadata": {},
     "output_type": "execute_result"
    }
   ],
   "source": [
    "unique_customer = oo['customer_id'].nunique()\n",
    "unique_customer"
   ]
  },
  {
   "cell_type": "markdown",
   "id": "97fa8a9d-20a4-4cc3-84b4-561cac5b5d74",
   "metadata": {},
   "source": [
    "### 3.1.3 Average Approval Time"
   ]
  },
  {
   "cell_type": "code",
   "execution_count": 68,
   "id": "7be9281f-2e89-464d-b434-e43a9d158132",
   "metadata": {},
   "outputs": [
    {
     "data": {
      "text/plain": [
       "'15h - 13m - 57s'"
      ]
     },
     "execution_count": 68,
     "metadata": {},
     "output_type": "execute_result"
    }
   ],
   "source": [
    "oo['approval_time_seconds'] = (oo[\"order_approved_at\"] - oo[\"order_purchase_timestamp\"]).dt.total_seconds()\n",
    "avg_approval_time_difference = (oo[\"order_approved_at\"] - oo[\"order_purchase_timestamp\"]).mean()\n",
    "\n",
    "approval_time_total_seconds = avg_approval_time_difference.total_seconds()\n",
    "approval_time_hours = int(approval_time_total_seconds // 3600)\n",
    "approval_time_minutes = int((approval_time_total_seconds % 3600) // 60)\n",
    "approval_time_seconds = int(approval_time_total_seconds % 60)\n",
    "avg_approval_time = f\"{approval_time_hours}h - {approval_time_minutes}m - {approval_time_seconds}s\"\n",
    "avg_approval_time"
   ]
  },
  {
   "cell_type": "markdown",
   "id": "3f86e95a-4c54-48af-a422-596f21a643f1",
   "metadata": {},
   "source": [
    "### 3.1.4. Average Delivery Time"
   ]
  },
  {
   "cell_type": "code",
   "execution_count": 69,
   "id": "a8324f7e-1496-4e32-b433-2e54cfe09ad8",
   "metadata": {},
   "outputs": [
    {
     "data": {
      "text/plain": [
       "'10d - 8h - 44m - 20s'"
      ]
     },
     "execution_count": 69,
     "metadata": {},
     "output_type": "execute_result"
    }
   ],
   "source": [
    "oo['delivery_time_seconds'] = (oo['order_delivered_customer_date'] - oo['order_delivered_carrier_date']).dt.total_seconds()\n",
    "avg_deliver_time_difference = (oo['order_delivered_customer_date'] - oo['order_delivered_carrier_date']).mean()\n",
    "\n",
    "deliver_time_total_seconds = avg_deliver_time_difference.total_seconds()\n",
    "deliver_time_days = int(deliver_time_total_seconds // 86400)\n",
    "deliver_time_hours = int((deliver_time_total_seconds % 86400) // 3600)\n",
    "deliver_time_minutes = int((deliver_time_total_seconds % 3600) // 60)\n",
    "deliver_time_seconds = int(deliver_time_total_seconds % 60)\n",
    "\n",
    "avg_deliver_time = f\"{deliver_time_days}d - {deliver_time_hours}h - {deliver_time_minutes}m - {deliver_time_seconds}s\"\n",
    "avg_deliver_time"
   ]
  },
  {
   "cell_type": "markdown",
   "id": "2c94d8f1-b960-465a-95ac-bac0bb5d17c8",
   "metadata": {},
   "source": [
    "### 3.1.5. Total Item Ordered"
   ]
  },
  {
   "cell_type": "code",
   "execution_count": 70,
   "id": "a93ffbb3-2db5-4b0b-a0c1-c386f09c5535",
   "metadata": {},
   "outputs": [
    {
     "data": {
      "text/plain": [
       "112650"
      ]
     },
     "execution_count": 70,
     "metadata": {},
     "output_type": "execute_result"
    }
   ],
   "source": [
    "total_item_ordered = ooi['order_item_id'].count()\n",
    "total_item_ordered"
   ]
  },
  {
   "cell_type": "markdown",
   "id": "b1e7d97c-a85b-4b19-b623-b47224f99482",
   "metadata": {},
   "source": [
    "### 3.1.6. Total Revenue"
   ]
  },
  {
   "cell_type": "code",
   "execution_count": 71,
   "id": "50b3ad43-bf76-4d31-93ad-ee8fa7022572",
   "metadata": {},
   "outputs": [
    {
     "data": {
      "text/plain": [
       "16008872.12"
      ]
     },
     "execution_count": 71,
     "metadata": {},
     "output_type": "execute_result"
    }
   ],
   "source": [
    "total_revenue = oop['payment_value'].sum()\n",
    "total_revenue"
   ]
  },
  {
   "cell_type": "markdown",
   "id": "4ac3b642-2f02-4f3c-bd76-3a16b6793685",
   "metadata": {},
   "source": [
    "### 3.1.7. Average Review Score"
   ]
  },
  {
   "cell_type": "code",
   "execution_count": 72,
   "id": "e5a396a0-d000-4a28-91fa-850b4e672155",
   "metadata": {},
   "outputs": [
    {
     "data": {
      "text/plain": [
       "4.09"
      ]
     },
     "execution_count": 72,
     "metadata": {},
     "output_type": "execute_result"
    }
   ],
   "source": [
    "average_review_score = oor['review_score'].mean().round(2)\n",
    "average_review_score"
   ]
  },
  {
   "cell_type": "markdown",
   "id": "e9432bfd-26ae-4999-83b8-a6daffbd4d8f",
   "metadata": {},
   "source": [
    "### 3.1.8. Unique Seller"
   ]
  },
  {
   "cell_type": "code",
   "execution_count": 73,
   "id": "2d281cab-869c-462b-8a33-d6c8ab690bc4",
   "metadata": {},
   "outputs": [
    {
     "data": {
      "text/plain": [
       "3095"
      ]
     },
     "execution_count": 73,
     "metadata": {},
     "output_type": "execute_result"
    }
   ],
   "source": [
    "unique_seller = os['seller_id'].nunique()\n",
    "unique_seller"
   ]
  },
  {
   "cell_type": "markdown",
   "id": "516dbd49-f1a1-4890-a3be-a40fd7a5b9c3",
   "metadata": {},
   "source": [
    "### 3.1.9. Average Value per Order"
   ]
  },
  {
   "cell_type": "code",
   "execution_count": 74,
   "id": "4b7db283-098d-4e0c-8bb2-664b3f57e905",
   "metadata": {},
   "outputs": [
    {
     "data": {
      "text/plain": [
       "160.99"
      ]
     },
     "execution_count": 74,
     "metadata": {},
     "output_type": "execute_result"
    }
   ],
   "source": [
    "average_value_per_order = (total_revenue/total_order).round(2)\n",
    "average_value_per_order"
   ]
  },
  {
   "cell_type": "markdown",
   "id": "eaed8d2e-4ae6-4d3f-ab7c-f20f8f6ccd8a",
   "metadata": {},
   "source": [
    "### 3.1.10. On-Time Delivery Rate"
   ]
  },
  {
   "cell_type": "code",
   "execution_count": 75,
   "id": "7df9d444-b9b1-457a-86c9-be147205b21d",
   "metadata": {},
   "outputs": [
    {
     "data": {
      "text/plain": [
       "'90.47%'"
      ]
     },
     "execution_count": 75,
     "metadata": {},
     "output_type": "execute_result"
    }
   ],
   "source": [
    "oo['Delivery Duration'] = (oo['order_estimated_delivery_date'] - oo['order_delivered_customer_date']).dt.total_seconds()\n",
    "late = oo[oo['Delivery Duration'] < 0].shape[0]\n",
    "on_time_delivery_rate = (100 - (late * 100 / total_order)).round(2)\n",
    "on_time_delivery_rate = f\"{on_time_delivery_rate}%\"\n",
    "on_time_delivery_rate"
   ]
  },
  {
   "cell_type": "markdown",
   "id": "02df2af9-274c-4d31-a309-d34118acb258",
   "metadata": {},
   "source": [
    "## 3.2. Charts"
   ]
  },
  {
   "cell_type": "markdown",
   "id": "f8a063e7-8a3f-4e00-80cc-85e7f69132c2",
   "metadata": {},
   "source": [
    "### 3.2.1. Revenue by Time"
   ]
  },
  {
   "cell_type": "code",
   "execution_count": 76,
   "id": "f01c783f-02e7-4ab5-a184-f3e3c7ec6592",
   "metadata": {},
   "outputs": [
    {
     "data": {
      "image/png": "[encoded data removed]",
      "text/plain": [
       "<Figure size 1300x600 with 1 Axes>"
      ]
     },
     "metadata": {},
     "output_type": "display_data"
    }
   ],
   "source": [
    "revenue_by_time = oo_oop[['order_purchase_timestamp','payment_value']].copy()\n",
    "revenue_by_time['Year'] = revenue_by_time['order_purchase_timestamp'].dt.year\n",
    "revenue_by_time['Month'] = revenue_by_time['order_purchase_timestamp'].dt.month\n",
    "\n",
    "revenue_by_time = revenue_by_time.groupby(['Year','Month'])['payment_value'].sum().reset_index(name='Total Revenue')\n",
    "revenue_by_time['Month-Year'] = revenue_by_time['Month'].astype(str) + '-' + revenue_by_time['Year'].astype(str)\n",
    "\n",
    "plt.figure(figsize=(13, 6))\n",
    "plt.plot(revenue_by_time['Month-Year'], revenue_by_time['Total Revenue'], color = \"#C00000\")\n",
    "plt.xlabel('Month')\n",
    "plt.ylabel('Total Revenue')\n",
    "plt.title('Total Revenue per Month for Each Year')\n",
    "plt.grid(True, alpha = 0.3)\n",
    "plt.xticks(revenue_by_time.index[::2], revenue_by_time['Month-Year'][::2], rotation=45)\n",
    "plt.show()"
   ]
  },
  {
   "cell_type": "code",
   "execution_count": 77,
   "id": "83aac79d-79ba-4a95-8e99-0d4b379720a6",
   "metadata": {},
   "outputs": [
    {
     "data": {
      "text/html": [
       "<div>\n",
       "<style scoped>\n",
       "    .dataframe tbody tr th:only-of-type {\n",
       "        vertical-align: middle;\n",
       "    }\n",
       "\n",
       "    .dataframe tbody tr th {\n",
       "        vertical-align: top;\n",
       "    }\n",
       "\n",
       "    .dataframe thead th {\n",
       "        text-align: right;\n",
       "    }\n",
       "</style>\n",
       "<table border=\"1\" class=\"dataframe\">\n",
       "  <thead>\n",
       "    <tr style=\"text-align: right;\">\n",
       "      <th></th>\n",
       "      <th>order_id</th>\n",
       "      <th>customer_id</th>\n",
       "      <th>order_status</th>\n",
       "      <th>order_purchase_timestamp</th>\n",
       "      <th>order_approved_at</th>\n",
       "      <th>order_delivered_carrier_date</th>\n",
       "      <th>order_delivered_customer_date</th>\n",
       "      <th>order_estimated_delivery_date</th>\n",
       "      <th>payment_sequential</th>\n",
       "      <th>payment_type</th>\n",
       "      <th>payment_installments</th>\n",
       "      <th>payment_value</th>\n",
       "    </tr>\n",
       "  </thead>\n",
       "  <tbody>\n",
       "    <tr>\n",
       "      <th>1876</th>\n",
       "      <td>ed3efbd3a87bea76c2812c66a0b32219</td>\n",
       "      <td>191984a8ba4cbb2145acb4fe35b69664</td>\n",
       "      <td>canceled</td>\n",
       "      <td>2018-09-20 13:54:16</td>\n",
       "      <td>2018-09-21 13:54:16</td>\n",
       "      <td>2018-09-22 13:54:16</td>\n",
       "      <td>2018-09-23 13:54:16</td>\n",
       "      <td>2018-10-17</td>\n",
       "      <td>1.0</td>\n",
       "      <td>Voucher</td>\n",
       "      <td>1.0</td>\n",
       "      <td>191.46</td>\n",
       "    </tr>\n",
       "    <tr>\n",
       "      <th>5353</th>\n",
       "      <td>ea844c92cf978ea23321fa7fe5871761</td>\n",
       "      <td>6ddc45ad08e6a2c885ca2255fc52d6df</td>\n",
       "      <td>canceled</td>\n",
       "      <td>2018-09-13 09:56:12</td>\n",
       "      <td>2018-09-14 09:56:12</td>\n",
       "      <td>2018-09-15 09:56:12</td>\n",
       "      <td>2018-09-16 09:56:12</td>\n",
       "      <td>2018-09-27</td>\n",
       "      <td>1.0</td>\n",
       "      <td>Voucher</td>\n",
       "      <td>1.0</td>\n",
       "      <td>414.04</td>\n",
       "    </tr>\n",
       "    <tr>\n",
       "      <th>10427</th>\n",
       "      <td>87ae60ef8b08ae0e5f903cacb53a6904</td>\n",
       "      <td>fea4d57ed3a45455f89c25ef3dae8ee8</td>\n",
       "      <td>canceled</td>\n",
       "      <td>2018-09-11 16:45:54</td>\n",
       "      <td>2018-09-12 16:45:54</td>\n",
       "      <td>2018-09-13 16:45:54</td>\n",
       "      <td>2018-09-14 16:45:54</td>\n",
       "      <td>2018-09-26</td>\n",
       "      <td>1.0</td>\n",
       "      <td>Voucher</td>\n",
       "      <td>1.0</td>\n",
       "      <td>258.67</td>\n",
       "    </tr>\n",
       "    <tr>\n",
       "      <th>17051</th>\n",
       "      <td>bd35b677fd239386e9861d11ae98ab56</td>\n",
       "      <td>ad2eb5d02c0808bcd8743117f6383cf6</td>\n",
       "      <td>canceled</td>\n",
       "      <td>2018-09-17 17:21:16</td>\n",
       "      <td>2018-09-18 17:21:16</td>\n",
       "      <td>2018-09-19 17:21:16</td>\n",
       "      <td>2018-09-20 17:21:16</td>\n",
       "      <td>2018-10-01</td>\n",
       "      <td>1.0</td>\n",
       "      <td>Voucher</td>\n",
       "      <td>1.0</td>\n",
       "      <td>84.58</td>\n",
       "    </tr>\n",
       "    <tr>\n",
       "      <th>21686</th>\n",
       "      <td>4d59cc2a2e7bb6c0a851725f5888a9b5</td>\n",
       "      <td>ead83a4f8f7be8c3034b2e98754a6147</td>\n",
       "      <td>canceled</td>\n",
       "      <td>2018-09-06 14:50:07</td>\n",
       "      <td>2018-09-07 14:50:07</td>\n",
       "      <td>2018-09-08 14:50:07</td>\n",
       "      <td>2018-09-09 14:50:07</td>\n",
       "      <td>2018-09-21</td>\n",
       "      <td>1.0</td>\n",
       "      <td>Voucher</td>\n",
       "      <td>1.0</td>\n",
       "      <td>69.46</td>\n",
       "    </tr>\n",
       "  </tbody>\n",
       "</table>\n",
       "</div>"
      ],
      "text/plain": [
       "                               order_id                       customer_id  \\\n",
       "1876   ed3efbd3a87bea76c2812c66a0b32219  191984a8ba4cbb2145acb4fe35b69664   \n",
       "5353   ea844c92cf978ea23321fa7fe5871761  6ddc45ad08e6a2c885ca2255fc52d6df   \n",
       "10427  87ae60ef8b08ae0e5f903cacb53a6904  fea4d57ed3a45455f89c25ef3dae8ee8   \n",
       "17051  bd35b677fd239386e9861d11ae98ab56  ad2eb5d02c0808bcd8743117f6383cf6   \n",
       "21686  4d59cc2a2e7bb6c0a851725f5888a9b5  ead83a4f8f7be8c3034b2e98754a6147   \n",
       "\n",
       "      order_status order_purchase_timestamp   order_approved_at  \\\n",
       "1876      canceled      2018-09-20 13:54:16 2018-09-21 13:54:16   \n",
       "5353      canceled      2018-09-13 09:56:12 2018-09-14 09:56:12   \n",
       "10427     canceled      2018-09-11 16:45:54 2018-09-12 16:45:54   \n",
       "17051     canceled      2018-09-17 17:21:16 2018-09-18 17:21:16   \n",
       "21686     canceled      2018-09-06 14:50:07 2018-09-07 14:50:07   \n",
       "\n",
       "      order_delivered_carrier_date order_delivered_customer_date  \\\n",
       "1876           2018-09-22 13:54:16           2018-09-23 13:54:16   \n",
       "5353           2018-09-15 09:56:12           2018-09-16 09:56:12   \n",
       "10427          2018-09-13 16:45:54           2018-09-14 16:45:54   \n",
       "17051          2018-09-19 17:21:16           2018-09-20 17:21:16   \n",
       "21686          2018-09-08 14:50:07           2018-09-09 14:50:07   \n",
       "\n",
       "      order_estimated_delivery_date  payment_sequential payment_type  \\\n",
       "1876                     2018-10-17                 1.0      Voucher   \n",
       "5353                     2018-09-27                 1.0      Voucher   \n",
       "10427                    2018-09-26                 1.0      Voucher   \n",
       "17051                    2018-10-01                 1.0      Voucher   \n",
       "21686                    2018-09-21                 1.0      Voucher   \n",
       "\n",
       "       payment_installments  payment_value  \n",
       "1876                    1.0         191.46  \n",
       "5353                    1.0         414.04  \n",
       "10427                   1.0         258.67  \n",
       "17051                   1.0          84.58  \n",
       "21686                   1.0          69.46  "
      ]
     },
     "execution_count": 77,
     "metadata": {},
     "output_type": "execute_result"
    }
   ],
   "source": [
    "oo_oop[oo_oop['order_purchase_timestamp'] > '2018-09-01'].head()"
   ]
  },
  {
   "cell_type": "markdown",
   "id": "791fe2e1-82f5-4075-a549-e6c543d5d0ad",
   "metadata": {},
   "source": [
    "### 3.2.2. Number of Order by Time"
   ]
  },
  {
   "cell_type": "code",
   "execution_count": 82,
   "id": "815ce2db-7234-42fc-bd3e-3566e15c0897",
   "metadata": {},
   "outputs": [
    {
     "data": {
      "image/png": "[encoded data removed]",
      "text/plain": [
       "<Figure size 1300x600 with 1 Axes>"
      ]
     },
     "metadata": {},
     "output_type": "display_data"
    }
   ],
   "source": [
    "order_by_time = oo_oop[['order_purchase_timestamp','order_id']].copy()\n",
    "order_by_time['Year'] = order_by_time['order_purchase_timestamp'].dt.year\n",
    "order_by_time['Month'] = order_by_time['order_purchase_timestamp'].dt.month\n",
    "\n",
    "order_by_time = order_by_time.groupby(['Year','Month'])['order_id'].count().reset_index(name='Total Order')\n",
    "order_by_time['Month-Year'] = order_by_time['Month'].astype(str) + '-' + order_by_time['Year'].astype(str)\n",
    "\n",
    "plt.figure(figsize=(13, 6))\n",
    "plt.plot(order_by_time['Month-Year'], order_by_time['Total Order'], color = \"#C00000\")\n",
    "plt.xlabel('Month')\n",
    "plt.ylabel('Total Order')\n",
    "plt.title('Total Order per Month for Each Year')\n",
    "plt.grid(True, alpha = 0.3)\n",
    "plt.xticks(order_by_time.index[::2], order_by_time['Month-Year'][::2], rotation=45)\n",
    "plt.show()"
   ]
  },
  {
   "cell_type": "markdown",
   "id": "66ca9530-55ad-4546-82ac-fb9a0610881f",
   "metadata": {},
   "source": [
    "### Order Status Distribution"
   ]
  },
  {
   "cell_type": "code",
   "execution_count": 86,
   "id": "44836d99-84da-456c-ad55-b6136a55f9dd",
   "metadata": {},
   "outputs": [
    {
     "data": {
      "text/html": [
       "<div>\n",
       "<style scoped>\n",
       "    .dataframe tbody tr th:only-of-type {\n",
       "        vertical-align: middle;\n",
       "    }\n",
       "\n",
       "    .dataframe tbody tr th {\n",
       "        vertical-align: top;\n",
       "    }\n",
       "\n",
       "    .dataframe thead th {\n",
       "        text-align: right;\n",
       "    }\n",
       "</style>\n",
       "<table border=\"1\" class=\"dataframe\">\n",
       "  <thead>\n",
       "    <tr style=\"text-align: right;\">\n",
       "      <th></th>\n",
       "      <th>order_status</th>\n",
       "      <th>count</th>\n",
       "    </tr>\n",
       "  </thead>\n",
       "  <tbody>\n",
       "    <tr>\n",
       "      <th>0</th>\n",
       "      <td>delivered</td>\n",
       "      <td>96478</td>\n",
       "    </tr>\n",
       "    <tr>\n",
       "      <th>1</th>\n",
       "      <td>shipped</td>\n",
       "      <td>1107</td>\n",
       "    </tr>\n",
       "    <tr>\n",
       "      <th>2</th>\n",
       "      <td>canceled</td>\n",
       "      <td>625</td>\n",
       "    </tr>\n",
       "    <tr>\n",
       "      <th>3</th>\n",
       "      <td>unavailable</td>\n",
       "      <td>609</td>\n",
       "    </tr>\n",
       "    <tr>\n",
       "      <th>4</th>\n",
       "      <td>invoiced</td>\n",
       "      <td>314</td>\n",
       "    </tr>\n",
       "    <tr>\n",
       "      <th>5</th>\n",
       "      <td>processing</td>\n",
       "      <td>301</td>\n",
       "    </tr>\n",
       "    <tr>\n",
       "      <th>6</th>\n",
       "      <td>created</td>\n",
       "      <td>5</td>\n",
       "    </tr>\n",
       "    <tr>\n",
       "      <th>7</th>\n",
       "      <td>approved</td>\n",
       "      <td>2</td>\n",
       "    </tr>\n",
       "  </tbody>\n",
       "</table>\n",
       "</div>"
      ],
      "text/plain": [
       "  order_status  count\n",
       "0    delivered  96478\n",
       "1      shipped   1107\n",
       "2     canceled    625\n",
       "3  unavailable    609\n",
       "4     invoiced    314\n",
       "5   processing    301\n",
       "6      created      5\n",
       "7     approved      2"
      ]
     },
     "execution_count": 86,
     "metadata": {},
     "output_type": "execute_result"
    }
   ],
   "source": [
    "order_status_dstribution = oo['order_status'].value_counts().reset_index()\n",
    "order_status_dstribution"
   ]
  },
  {
   "cell_type": "markdown",
   "id": "a1a07668-8e30-4910-8bc3-5cee06594c43",
   "metadata": {},
   "source": [
    "### Payment Type Distribution"
   ]
  },
  {
   "cell_type": "code",
   "execution_count": 92,
   "id": "3a32dd11-e1fe-49e4-8c5f-40e50d283d05",
   "metadata": {},
   "outputs": [
    {
     "data": {
      "text/html": [
       "<div>\n",
       "<style scoped>\n",
       "    .dataframe tbody tr th:only-of-type {\n",
       "        vertical-align: middle;\n",
       "    }\n",
       "\n",
       "    .dataframe tbody tr th {\n",
       "        vertical-align: top;\n",
       "    }\n",
       "\n",
       "    .dataframe thead th {\n",
       "        text-align: right;\n",
       "    }\n",
       "</style>\n",
       "<table border=\"1\" class=\"dataframe\">\n",
       "  <thead>\n",
       "    <tr style=\"text-align: right;\">\n",
       "      <th></th>\n",
       "      <th>payment_type</th>\n",
       "      <th>count</th>\n",
       "    </tr>\n",
       "  </thead>\n",
       "  <tbody>\n",
       "    <tr>\n",
       "      <th>0</th>\n",
       "      <td>Credit Card</td>\n",
       "      <td>76795</td>\n",
       "    </tr>\n",
       "    <tr>\n",
       "      <th>1</th>\n",
       "      <td>Boleto</td>\n",
       "      <td>19784</td>\n",
       "    </tr>\n",
       "    <tr>\n",
       "      <th>2</th>\n",
       "      <td>Voucher</td>\n",
       "      <td>5775</td>\n",
       "    </tr>\n",
       "    <tr>\n",
       "      <th>3</th>\n",
       "      <td>Debit Card</td>\n",
       "      <td>1529</td>\n",
       "    </tr>\n",
       "    <tr>\n",
       "      <th>4</th>\n",
       "      <td>Not Defined</td>\n",
       "      <td>3</td>\n",
       "    </tr>\n",
       "  </tbody>\n",
       "</table>\n",
       "</div>"
      ],
      "text/plain": [
       "  payment_type  count\n",
       "0  Credit Card  76795\n",
       "1       Boleto  19784\n",
       "2      Voucher   5775\n",
       "3   Debit Card   1529\n",
       "4  Not Defined      3"
      ]
     },
     "execution_count": 92,
     "metadata": {},
     "output_type": "execute_result"
    }
   ],
   "source": [
    "payment_type_distribution = oop['payment_type'].value_counts().reset_index()\n",
    "payment_type_distribution"
   ]
  },
  {
   "cell_type": "markdown",
   "id": "e47d06ed-cdbf-45e3-8706-833550335a2b",
   "metadata": {},
   "source": [
    "### Review Score Distribution"
   ]
  },
  {
   "cell_type": "code",
   "execution_count": 94,
   "id": "e6fffe5c-b5a6-4de4-8341-37fce58fd7ae",
   "metadata": {},
   "outputs": [
    {
     "data": {
      "text/html": [
       "<div>\n",
       "<style scoped>\n",
       "    .dataframe tbody tr th:only-of-type {\n",
       "        vertical-align: middle;\n",
       "    }\n",
       "\n",
       "    .dataframe tbody tr th {\n",
       "        vertical-align: top;\n",
       "    }\n",
       "\n",
       "    .dataframe thead th {\n",
       "        text-align: right;\n",
       "    }\n",
       "</style>\n",
       "<table border=\"1\" class=\"dataframe\">\n",
       "  <thead>\n",
       "    <tr style=\"text-align: right;\">\n",
       "      <th></th>\n",
       "      <th>review_score</th>\n",
       "      <th>count</th>\n",
       "    </tr>\n",
       "  </thead>\n",
       "  <tbody>\n",
       "    <tr>\n",
       "      <th>0</th>\n",
       "      <td>5</td>\n",
       "      <td>57328</td>\n",
       "    </tr>\n",
       "    <tr>\n",
       "      <th>1</th>\n",
       "      <td>4</td>\n",
       "      <td>19142</td>\n",
       "    </tr>\n",
       "    <tr>\n",
       "      <th>2</th>\n",
       "      <td>1</td>\n",
       "      <td>11424</td>\n",
       "    </tr>\n",
       "    <tr>\n",
       "      <th>3</th>\n",
       "      <td>3</td>\n",
       "      <td>8179</td>\n",
       "    </tr>\n",
       "    <tr>\n",
       "      <th>4</th>\n",
       "      <td>2</td>\n",
       "      <td>3151</td>\n",
       "    </tr>\n",
       "  </tbody>\n",
       "</table>\n",
       "</div>"
      ],
      "text/plain": [
       "   review_score  count\n",
       "0             5  57328\n",
       "1             4  19142\n",
       "2             1  11424\n",
       "3             3   8179\n",
       "4             2   3151"
      ]
     },
     "execution_count": 94,
     "metadata": {},
     "output_type": "execute_result"
    }
   ],
   "source": [
    "review_score_distribution = oor['review_score'].value_counts().reset_index()\n",
    "review_score_distribution"
   ]
  },
  {
   "cell_type": "code",
   "execution_count": 97,
   "id": "222c4377-a2f9-4285-9136-f81e56478a54",
   "metadata": {},
   "outputs": [
    {
     "data": {
      "text/html": [
       "<div>\n",
       "<style scoped>\n",
       "    .dataframe tbody tr th:only-of-type {\n",
       "        vertical-align: middle;\n",
       "    }\n",
       "\n",
       "    .dataframe tbody tr th {\n",
       "        vertical-align: top;\n",
       "    }\n",
       "\n",
       "    .dataframe thead th {\n",
       "        text-align: right;\n",
       "    }\n",
       "</style>\n",
       "<table border=\"1\" class=\"dataframe\">\n",
       "  <thead>\n",
       "    <tr style=\"text-align: right;\">\n",
       "      <th></th>\n",
       "      <th>order_id</th>\n",
       "      <th>order_item_id</th>\n",
       "      <th>product_id</th>\n",
       "      <th>seller_id</th>\n",
       "      <th>shipping_limit_date</th>\n",
       "      <th>price</th>\n",
       "      <th>freight_value</th>\n",
       "    </tr>\n",
       "  </thead>\n",
       "  <tbody>\n",
       "    <tr>\n",
       "      <th>0</th>\n",
       "      <td>00010242fe8c5a6d1ba2dd792cb16214</td>\n",
       "      <td>1</td>\n",
       "      <td>4244733e06e7ecb4970a6e2683c13e61</td>\n",
       "      <td>48436dade18ac8b2bce089ec2a041202</td>\n",
       "      <td>2017-09-19 09:45:35</td>\n",
       "      <td>58.90</td>\n",
       "      <td>13.29</td>\n",
       "    </tr>\n",
       "    <tr>\n",
       "      <th>1</th>\n",
       "      <td>00018f77f2f0320c557190d7a144bdd3</td>\n",
       "      <td>1</td>\n",
       "      <td>e5f2d52b802189ee658865ca93d83a8f</td>\n",
       "      <td>dd7ddc04e1b6c2c614352b383efe2d36</td>\n",
       "      <td>2017-05-03 11:05:13</td>\n",
       "      <td>239.90</td>\n",
       "      <td>19.93</td>\n",
       "    </tr>\n",
       "    <tr>\n",
       "      <th>2</th>\n",
       "      <td>000229ec398224ef6ca0657da4fc703e</td>\n",
       "      <td>1</td>\n",
       "      <td>c777355d18b72b67abbeef9df44fd0fd</td>\n",
       "      <td>5b51032eddd242adc84c38acab88f23d</td>\n",
       "      <td>2018-01-18 14:48:30</td>\n",
       "      <td>199.00</td>\n",
       "      <td>17.87</td>\n",
       "    </tr>\n",
       "    <tr>\n",
       "      <th>3</th>\n",
       "      <td>00024acbcdf0a6daa1e931b038114c75</td>\n",
       "      <td>1</td>\n",
       "      <td>7634da152a4610f1595efa32f14722fc</td>\n",
       "      <td>9d7a1d34a5052409006425275ba1c2b4</td>\n",
       "      <td>2018-08-15 10:10:18</td>\n",
       "      <td>12.99</td>\n",
       "      <td>12.79</td>\n",
       "    </tr>\n",
       "    <tr>\n",
       "      <th>4</th>\n",
       "      <td>00042b26cf59d7ce69dfabb4e55b4fd9</td>\n",
       "      <td>1</td>\n",
       "      <td>ac6c3623068f30de03045865e4e10089</td>\n",
       "      <td>df560393f3a51e74553ab94004ba5c87</td>\n",
       "      <td>2017-02-13 13:57:51</td>\n",
       "      <td>199.90</td>\n",
       "      <td>18.14</td>\n",
       "    </tr>\n",
       "  </tbody>\n",
       "</table>\n",
       "</div>"
      ],
      "text/plain": [
       "                           order_id  order_item_id  \\\n",
       "0  00010242fe8c5a6d1ba2dd792cb16214              1   \n",
       "1  00018f77f2f0320c557190d7a144bdd3              1   \n",
       "2  000229ec398224ef6ca0657da4fc703e              1   \n",
       "3  00024acbcdf0a6daa1e931b038114c75              1   \n",
       "4  00042b26cf59d7ce69dfabb4e55b4fd9              1   \n",
       "\n",
       "                         product_id                         seller_id  \\\n",
       "0  4244733e06e7ecb4970a6e2683c13e61  48436dade18ac8b2bce089ec2a041202   \n",
       "1  e5f2d52b802189ee658865ca93d83a8f  dd7ddc04e1b6c2c614352b383efe2d36   \n",
       "2  c777355d18b72b67abbeef9df44fd0fd  5b51032eddd242adc84c38acab88f23d   \n",
       "3  7634da152a4610f1595efa32f14722fc  9d7a1d34a5052409006425275ba1c2b4   \n",
       "4  ac6c3623068f30de03045865e4e10089  df560393f3a51e74553ab94004ba5c87   \n",
       "\n",
       "  shipping_limit_date   price  freight_value  \n",
       "0 2017-09-19 09:45:35   58.90          13.29  \n",
       "1 2017-05-03 11:05:13  239.90          19.93  \n",
       "2 2018-01-18 14:48:30  199.00          17.87  \n",
       "3 2018-08-15 10:10:18   12.99          12.79  \n",
       "4 2017-02-13 13:57:51  199.90          18.14  "
      ]
     },
     "execution_count": 97,
     "metadata": {},
     "output_type": "execute_result"
    }
   ],
   "source": [
    "ooi.head()"
   ]
  },
  {
   "cell_type": "markdown",
   "id": "e7a3df8f-3929-4bbc-9ab7-45020460cd9c",
   "metadata": {},
   "source": [
    "### Most Order Product "
   ]
  },
  {
   "cell_type": "code",
   "execution_count": 107,
   "id": "fb1a2239-afaa-4570-9bff-ce293520c3a3",
   "metadata": {},
   "outputs": [
    {
     "data": {
      "image/png": "[encoded data removed]",
      "text/plain": [
       "<Figure size 640x480 with 1 Axes>"
      ]
     },
     "metadata": {},
     "output_type": "display_data"
    }
   ],
   "source": [
    "most_ordered_category = oo_ooi_op['product_category_name_english'].value_counts().head(10).reset_index()\n",
    "\n",
    "plt.barh(most_ordered_category['product_category_name_english'],most_ordered_category['count'], color = \"#C00000\")\n",
    "plt.gca().invert_yaxis() \n",
    "plt.show()"
   ]
  },
  {
   "cell_type": "markdown",
   "id": "a3fcd202-101f-4158-86cb-c95f5e1bda26",
   "metadata": {},
   "source": [
    "### Revenue by State"
   ]
  },
  {
   "cell_type": "code",
   "execution_count": 190,
   "id": "526c1c42-f47e-4009-b1fe-fd12cc956aa6",
   "metadata": {},
   "outputs": [
    {
     "data": {
      "image/png": "[encoded data removed]",
      "text/plain": [
       "<Figure size 640x480 with 1 Axes>"
      ]
     },
     "metadata": {},
     "output_type": "display_data"
    }
   ],
   "source": [
    "revenue_by_state = oo_oc_oop.groupby('state')['payment_value'].sum().reset_index().sort_values(by='payment_value', ascending = False)\n",
    "top_revenue_by_state = revenue_by_state.head(10)\n",
    "plt.barh(top_revenue_by_state['state'],top_revenue_by_state['payment_value'], color = \"#C00000\")\n",
    "plt.gca().invert_yaxis() \n",
    "plt.show()"
   ]
  },
  {
   "cell_type": "markdown",
   "id": "8138e0d6-914b-4e42-a597-3f0f79c88d99",
   "metadata": {},
   "source": [
    "### Order by State"
   ]
  },
  {
   "cell_type": "code",
   "execution_count": 131,
   "id": "bf14c135-dd08-4813-860b-6f10fb5604ef",
   "metadata": {},
   "outputs": [
    {
     "data": {
      "image/png": "[encoded data removed]",
      "text/plain": [
       "<Figure size 640x480 with 1 Axes>"
      ]
     },
     "metadata": {},
     "output_type": "display_data"
    }
   ],
   "source": [
    "order_by_state = oo_oc_oop.groupby('state')['order_id'].count().reset_index().sort_values(by='order_id', ascending = False).head(10)\n",
    "\n",
    "plt.barh(order_by_state['state'],order_by_state['order_id'], color = \"#C00000\")\n",
    "plt.gca().invert_yaxis() \n",
    "plt.show()"
   ]
  },
  {
   "cell_type": "markdown",
   "id": "3615ca9a-82fa-47cf-bdba-7122f2edcf0c",
   "metadata": {},
   "source": [
    "### City with most Seller"
   ]
  },
  {
   "cell_type": "code",
   "execution_count": 155,
   "id": "e37c5d0c-b197-4f38-abd5-0f5dddf94824",
   "metadata": {},
   "outputs": [
    {
     "data": {
      "image/png": "[encoded data removed]",
      "text/plain": [
       "<Figure size 640x480 with 1 Axes>"
      ]
     },
     "metadata": {},
     "output_type": "display_data"
    }
   ],
   "source": [
    "city_with_most_seller = os['city'].value_counts().head(10).reset_index().sort_values(by='count', ascending = False).head(10)\n",
    "plt.barh(city_with_most_seller['city'],city_with_most_seller['count'], color = \"#C00000\")\n",
    "plt.gca().invert_yaxis() \n",
    "plt.show()"
   ]
  },
  {
   "cell_type": "markdown",
   "id": "f8f0dc1f-fa6d-4c4b-bd88-c5107126130f",
   "metadata": {},
   "source": [
    "### Revenue by Day in Week"
   ]
  },
  {
   "cell_type": "code",
   "execution_count": 138,
   "id": "0ff127c6-6e57-4afa-85ba-8f7ab6258687",
   "metadata": {},
   "outputs": [
    {
     "data": {
      "image/png": "[encoded data removed]",
      "text/plain": [
       "<Figure size 800x600 with 1 Axes>"
      ]
     },
     "metadata": {},
     "output_type": "display_data"
    }
   ],
   "source": [
    "revenue_per_day = oo_oop[['order_purchase_timestamp','payment_value']].copy()\n",
    "revenue_per_day['Day_of_Week'] = revenue_per_day['order_purchase_timestamp'].dt.day_name()\n",
    "\n",
    "days_order = ['Monday', 'Tuesday', 'Wednesday', 'Thursday', 'Friday', 'Saturday', 'Sunday']\n",
    "revenue_per_day['Day_of_Week'] = pd.Categorical(revenue_per_day['Day_of_Week'], categories=days_order, ordered=True)\n",
    "\n",
    "revenue_per_day = revenue_per_day.groupby('Day_of_Week', observed=False)['payment_value'].sum()\n",
    "\n",
    "plt.figure(figsize=(8, 6))\n",
    "plt.bar(revenue_per_day.index, revenue_per_day.values, color='skyblue')\n",
    "plt.xlabel('Day of the Week')\n",
    "plt.ylabel('Total Revenue')\n",
    "plt.title('Revenue by Day of the Week')\n",
    "plt.show()"
   ]
  },
  {
   "cell_type": "markdown",
   "id": "43c5d79b-b714-4e9b-8a93-c0a2b85ca573",
   "metadata": {},
   "source": [
    "### Number of Seller by Category"
   ]
  },
  {
   "cell_type": "code",
   "execution_count": 151,
   "id": "029f8b8a-db56-457c-9f77-8732c846dce7",
   "metadata": {},
   "outputs": [
    {
     "data": {
      "image/png": "[encoded data removed]",
      "text/plain": [
       "<Figure size 640x480 with 1 Axes>"
      ]
     },
     "metadata": {},
     "output_type": "display_data"
    }
   ],
   "source": [
    "seller_by_category = op_ooi_os.groupby('product_category_name_english')['seller_id'].count().reset_index().sort_values(by='seller_id', ascending = False).head(10)\n",
    "\n",
    "plt.barh(seller_by_category['product_category_name_english'],seller_by_category['seller_id'], color = \"#C00000\")\n",
    "plt.gca().invert_yaxis() \n",
    "plt.show()"
   ]
  },
  {
   "cell_type": "code",
   "execution_count": 163,
   "id": "22b35fbe-48d4-45c2-9f0d-1736e7e41d6f",
   "metadata": {},
   "outputs": [
    {
     "data": {
      "text/html": [
       "<div>\n",
       "<style scoped>\n",
       "    .dataframe tbody tr th:only-of-type {\n",
       "        vertical-align: middle;\n",
       "    }\n",
       "\n",
       "    .dataframe tbody tr th {\n",
       "        vertical-align: top;\n",
       "    }\n",
       "\n",
       "    .dataframe thead th {\n",
       "        text-align: right;\n",
       "    }\n",
       "</style>\n",
       "<table border=\"1\" class=\"dataframe\">\n",
       "  <thead>\n",
       "    <tr style=\"text-align: right;\">\n",
       "      <th></th>\n",
       "      <th>product_category_name_english</th>\n",
       "      <th>review_score</th>\n",
       "    </tr>\n",
       "  </thead>\n",
       "  <tbody>\n",
       "    <tr>\n",
       "      <th>11</th>\n",
       "      <td>Cds Dvds Musicals</td>\n",
       "      <td>4.642857</td>\n",
       "    </tr>\n",
       "    <tr>\n",
       "      <th>29</th>\n",
       "      <td>Fashion Childrens Clothes</td>\n",
       "      <td>4.500000</td>\n",
       "    </tr>\n",
       "    <tr>\n",
       "      <th>8</th>\n",
       "      <td>Books General Interest</td>\n",
       "      <td>4.446266</td>\n",
       "    </tr>\n",
       "    <tr>\n",
       "      <th>22</th>\n",
       "      <td>Costruction Tools Tools</td>\n",
       "      <td>4.444444</td>\n",
       "    </tr>\n",
       "    <tr>\n",
       "      <th>35</th>\n",
       "      <td>Flowers</td>\n",
       "      <td>4.419355</td>\n",
       "    </tr>\n",
       "    <tr>\n",
       "      <th>9</th>\n",
       "      <td>Books Imported</td>\n",
       "      <td>4.400000</td>\n",
       "    </tr>\n",
       "    <tr>\n",
       "      <th>10</th>\n",
       "      <td>Books Technical</td>\n",
       "      <td>4.368421</td>\n",
       "    </tr>\n",
       "    <tr>\n",
       "      <th>37</th>\n",
       "      <td>Food Drink</td>\n",
       "      <td>4.315412</td>\n",
       "    </tr>\n",
       "    <tr>\n",
       "      <th>53</th>\n",
       "      <td>Luggage Accessories</td>\n",
       "      <td>4.315257</td>\n",
       "    </tr>\n",
       "    <tr>\n",
       "      <th>67</th>\n",
       "      <td>Small Appliances Home Oven And Coffee</td>\n",
       "      <td>4.302632</td>\n",
       "    </tr>\n",
       "  </tbody>\n",
       "</table>\n",
       "</div>"
      ],
      "text/plain": [
       "            product_category_name_english  review_score\n",
       "11                      Cds Dvds Musicals      4.642857\n",
       "29              Fashion Childrens Clothes      4.500000\n",
       "8                  Books General Interest      4.446266\n",
       "22                Costruction Tools Tools      4.444444\n",
       "35                                Flowers      4.419355\n",
       "9                          Books Imported      4.400000\n",
       "10                        Books Technical      4.368421\n",
       "37                             Food Drink      4.315412\n",
       "53                    Luggage Accessories      4.315257\n",
       "67  Small Appliances Home Oven And Coffee      4.302632"
      ]
     },
     "execution_count": 163,
     "metadata": {},
     "output_type": "execute_result"
    }
   ],
   "source": [
    "review_score_by_category = op_ooi_oor.groupby('product_category_name_english')['review_score'].mean().reset_index().sort_values(by='review_score', ascending = False)\n",
    "review_score_by_category.head(10)"
   ]
  }
 ],
 "metadata": {
  "kernelspec": {
   "display_name": "Python 3 (ipykernel)",
   "language": "python",
   "name": "python3"
  },
  "language_info": {
   "codemirror_mode": {
    "name": "ipython",
    "version": 3
   },
   "file_extension": ".py",
   "mimetype": "text/x-python",
   "name": "python",
   "nbconvert_exporter": "python",
   "pygments_lexer": "ipython3",
   "version": "3.11.7"
  }
 },
 "nbformat": 4,
 "nbformat_minor": 5
}
